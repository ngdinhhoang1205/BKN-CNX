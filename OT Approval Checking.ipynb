{
 "cells": [
  {
   "cell_type": "code",
   "execution_count": 74,
   "metadata": {},
   "outputs": [],
   "source": [
    "#libraries\n",
    "import os\n",
    "import pandas as pd\n",
    "from datetime import datetime as dt\n",
    "from datetime import time as t\n",
    "from dateutil import relativedelta\n",
    "import numpy as np\n",
    "from IPython.display import display"
   ]
  },
  {
   "cell_type": "code",
   "execution_count": 75,
   "metadata": {},
   "outputs": [],
   "source": [
    "# source\n",
    "user_credential = r'/Users/dinhhoang.nguyen.CONCENTRIX/OneDrive - Concentrix Corporation\\WFM-internal'"
   ]
  },
  {
   "cell_type": "code",
   "execution_count": 76,
   "metadata": {},
   "outputs": [],
   "source": [
    "# load daily tracking\n",
    "dailytracking = pd.read_excel(os.path.join(r'C:', user_credential, r'Dispatch files\\Adherence & Daily Tracking\\Daily Tracking.xlsx'), sheet_name='Daily Tracking', engine=\"openpyxl\")"
   ]
  },
  {
   "cell_type": "code",
   "execution_count": 77,
   "metadata": {},
   "outputs": [
    {
     "name": "stderr",
     "output_type": "stream",
     "text": [
      "C:\\Users\\dinhhoang.nguyen.CONCENTRIX\\AppData\\Local\\Temp\\VSCodePortable-x64Temp\\ipykernel_23216\\1309633891.py:4: SettingWithCopyWarning: \n",
      "A value is trying to be set on a copy of a slice from a DataFrame.\n",
      "Try using .loc[row_indexer,col_indexer] = value instead\n",
      "\n",
      "See the caveats in the documentation: https://pandas.pydata.org/pandas-docs/stable/user_guide/indexing.html#returning-a-view-versus-a-copy\n",
      "  approval['Session Date'] = pd.to_datetime(approval['Session Date'], format='mixed').dt.date\n"
     ]
    }
   ],
   "source": [
    "# subset Approved OT from daily tracking\n",
    "approval = dailytracking[['EID', 'Session Date', 'Supervisor','OT','Approved Overtime']]\n",
    "# convert date column to dt.date\n",
    "approval['Session Date'] = pd.to_datetime(approval['Session Date'], format='mixed').dt.date"
   ]
  },
  {
   "cell_type": "code",
   "execution_count": 78,
   "metadata": {},
   "outputs": [],
   "source": [
    "# ramcoot, get everything except for NSA\n",
    "ramcoot = pd.read_json(os.path.join(r'C:', user_credential, r'DB\\filejson\\ramcoot.json'))\n",
    "ramcoot = ramcoot.loc[(ramcoot['OT Type'] != 'NSA') & (ramcoot['Status'] == 'Authorized')]\n",
    "\n",
    "# calculate sum of OT authorised by agent by date\n",
    "ramcoot = ramcoot.groupby(['employee_code', 'Date'], as_index=False)['Hours'].sum()\n",
    "\n",
    "# convert ramcoot['Date'] to dt.date\n",
    "ramcoot['Date'] = pd.to_datetime(ramcoot['Date'], format='mixed').dt.date"
   ]
  },
  {
   "cell_type": "code",
   "execution_count": 79,
   "metadata": {},
   "outputs": [],
   "source": [
    "# create a frame\n",
    "main_frame = pd.read_json(os.path.join(r'C:', user_credential, r'DB\\filejson\\schedule.json'))[['Emp ID', 'Date', 'LOB']]\n",
    "# convert main_frame['Date'] to dt.date\n",
    "main_frame['Date'] = pd.to_datetime(main_frame['Date'], format='mixed').dt.date"
   ]
  },
  {
   "cell_type": "code",
   "execution_count": 80,
   "metadata": {},
   "outputs": [],
   "source": [
    "# add approved OT into the frame\n",
    "main_frame = pd.merge(main_frame, approval, left_on=['Emp ID', 'Date'], right_on=['EID', 'Session Date'], how='left')\n",
    "# replace na with 0\n",
    "main_frame[['OT', 'Approved Overtime']] = main_frame[['OT', 'Approved Overtime']].fillna(0)\n",
    "# rename OT to Registered OT\n",
    "main_frame = main_frame.rename(columns={'OT': 'Registered OT'})"
   ]
  },
  {
   "cell_type": "code",
   "execution_count": 81,
   "metadata": {},
   "outputs": [],
   "source": [
    "# add OT submmitted on Ramco to main_frame\n",
    "main_frame = pd.merge(main_frame, ramcoot, left_on=['Emp ID', 'Date'], right_on=['employee_code', 'Date'], how='left')\n",
    "# replace na with 0\n",
    "main_frame['Hours'] = main_frame['Hours'].fillna(0)\n",
    "# rename OT to Registered OT\n",
    "main_frame = main_frame.rename(columns={'Hours': 'Ramco OT'})"
   ]
  },
  {
   "cell_type": "code",
   "execution_count": 82,
   "metadata": {},
   "outputs": [],
   "source": [
    "#drop abundant columns: EID, employee_code, Session Date\n",
    "main_frame =main_frame.drop(columns={'EID', 'employee_code', 'Session Date'})\n",
    "# add month\n",
    "main_frame['Month'] = pd.to_datetime(main_frame['Date'], format='mixed').dt.strftime('%Y-%m')\n",
    "# add discrepancy\n",
    "main_frame['Discrepancies'] = main_frame['Approved Overtime'] - main_frame['Ramco OT']\n",
    "# add discrepancy type\n",
    "main_frame['Discre_type'] = main_frame.apply(lambda x: 'Valid' if x['Discrepancies'] == 0 else 'Over-submitted' if x['Discrepancies']<0 else 'Under-submitted', axis=1)\n",
    "# remove rows where Supervisor is not na\n",
    "main_frame = main_frame.loc[main_frame['Supervisor'].notnull()]\n",
    "# add a column to help TLs to know who is incharge of adjust the ramco submission, depends on the date submit and current date\n",
    "main_frame['#submission_to_current'] = (dt.today() - pd.to_datetime(main_frame['Date'], format='mixed')).dt.days.astype('int64')\n",
    "main_frame['person_to_action'] = main_frame.apply(lambda x: 'no_action' if x['Discre_type'] == 'Valid' else '<= 7 days /nTL' if x['Discre_type'] != '<=12 days /nValid' and x['#submission_to_current']<= 7 else 'OM' if x['Discre_type'] != 'Valid' and x['#submission_to_current']<= 12 else '>12 days /nHR', axis=1)\n",
    "summary = main_frame.loc[main_frame['person_to_action']!= 'no_action'].pivot_table(index=['Supervisor', 'Month'], columns=['person_to_action'],values='Emp ID', aggfunc='count').reset_index()"
   ]
  },
  {
   "cell_type": "code",
   "execution_count": 93,
   "metadata": {},
   "outputs": [],
   "source": [
    "with pd.ExcelWriter(os.path.join(r'C:', user_credential, r'Dispatch files\\Validate OT\\OTMismatches.xlsx'), mode=\"a\", engine=\"openpyxl\",if_sheet_exists=\"replace\") as writer:\n",
    "    main_frame.to_excel(writer, sheet_name='Details', index=False)"
   ]
  }
 ],
 "metadata": {
  "kernelspec": {
   "display_name": "Python 3",
   "language": "python",
   "name": "python3"
  },
  "language_info": {
   "codemirror_mode": {
    "name": "ipython",
    "version": 3
   },
   "file_extension": ".py",
   "mimetype": "text/x-python",
   "name": "python",
   "nbconvert_exporter": "python",
   "pygments_lexer": "ipython3",
   "version": "3.11.4"
  },
  "orig_nbformat": 4
 },
 "nbformat": 4,
 "nbformat_minor": 2
}
