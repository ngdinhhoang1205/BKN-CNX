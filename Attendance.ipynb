{
 "cells": [
  {
   "cell_type": "code",
   "execution_count": 19,
   "metadata": {},
   "outputs": [],
   "source": [
    "#libraries\n",
    "import os\n",
    "import pandas as pd\n",
    "from datetime import datetime as dt\n",
    "from datetime import time as t\n",
    "import numpy as np\n",
    "from IPython.display import display"
   ]
  },
  {
   "cell_type": "code",
   "execution_count": 20,
   "metadata": {},
   "outputs": [],
   "source": [
    "import requests\n",
    "from requests.auth import HTTPBasicAuth"
   ]
  },
  {
   "cell_type": "code",
   "execution_count": 21,
   "metadata": {},
   "outputs": [],
   "source": [
    "# source\n",
    "personal_path = os.environ['USERPROFILE']\n",
    "if personal_path == 'C:\\\\Users\\\\dinhhoang.nguyen.CONCENTRIX':\n",
    "    middle_path = r'OneDrive - Concentrix Corporation\\WFM-internal'\n",
    "else:\n",
    "    middle_path = r'Concentrix Corporation\\Dinh Hoang Nguyen - WFM-internal'\n",
    "user_credential = os.path.join(os.environ['USERPROFILE'], middle_path)"
   ]
  },
  {
   "cell_type": "code",
   "execution_count": 22,
   "metadata": {},
   "outputs": [],
   "source": [
    "update_less = False"
   ]
  },
  {
   "cell_type": "code",
   "execution_count": 23,
   "metadata": {},
   "outputs": [],
   "source": [
    "# IMPORT MASTER ROSTER\n",
    "masterroster = pd.read_json(os.path.join(user_credential, r'DB\\filejson\\masterroster.json'))\n",
    "masterroster['Employee_ID'] = masterroster['Employee_ID'].astype(\"Int64\")"
   ]
  },
  {
   "cell_type": "code",
   "execution_count": 24,
   "metadata": {},
   "outputs": [],
   "source": [
    "# IMPORT EPS\n",
    "if update_less == True:\n",
    "    eps = pd.read_json(os.path.join(user_credential, r'DB\\filejson\\eps.json'))\n",
    "else:\n",
    "    eps = pd.read_json(os.path.join(user_credential, r'DB\\filejson\\eps_full.json'))"
   ]
  },
  {
   "cell_type": "code",
   "execution_count": 25,
   "metadata": {},
   "outputs": [],
   "source": [
    "# IMPORT RAMCO\n",
    "if update_less == True:\n",
    "    ramco = pd.read_json(os.path.join(user_credential, r'DB\\filejson\\ramco.json'))\n",
    "else:\n",
    "    ramco = pd.read_json(os.path.join(user_credential, r'DB\\filejson\\ramco_full.json'))"
   ]
  },
  {
   "cell_type": "code",
   "execution_count": 26,
   "metadata": {},
   "outputs": [],
   "source": [
    "# IMPORT SCHEDULE\n",
    "if update_less == True:\n",
    "    schedule = pd.read_json(os.path.join(user_credential, r'DB\\filejson\\schedule.json'))\n",
    "else:\n",
    "    schedule = pd.read_json(os.path.join(user_credential, r'DB\\filejson\\schedule_full.json'))"
   ]
  },
  {
   "cell_type": "code",
   "execution_count": 27,
   "metadata": {},
   "outputs": [],
   "source": [
    "#IMPORT CUIC\n",
    "if update_less == True:\n",
    "    cuic = pd.read_json(os.path.join(user_credential, r'DB\\filejson\\cuic.json'))\n",
    "else:\n",
    "    cuic = pd.read_json(os.path.join(user_credential, r'DB\\filejson\\cuic_full.json'))"
   ]
  },
  {
   "cell_type": "code",
   "execution_count": 28,
   "metadata": {},
   "outputs": [],
   "source": [
    "#IMPORT IEX ID\n",
    "iex = pd.read_json(os.path.join(user_credential, r'DB\\filejson\\iex.json'))"
   ]
  },
  {
   "cell_type": "code",
   "execution_count": 29,
   "metadata": {},
   "outputs": [],
   "source": [
    "# IMPORT TL\n",
    "tl = pd.read_json(os.path.join(user_credential, r'DB\\filejson\\tl.json'))"
   ]
  },
  {
   "cell_type": "code",
   "execution_count": 30,
   "metadata": {},
   "outputs": [],
   "source": [
    "# IMPORT TRAINING\n",
    "training = pd.read_json(os.path.join(user_credential, r'DB\\filejson\\training.json'))"
   ]
  },
  {
   "cell_type": "code",
   "execution_count": 31,
   "metadata": {},
   "outputs": [],
   "source": [
    "# IMPORT OT\n",
    "if update_less == True:\n",
    "    ot = pd.read_json(os.path.join(user_credential, r'DB\\filejson\\ot.json'))\n",
    "else:\n",
    "    ot = pd.read_json(os.path.join(user_credential, r'DB\\filejson\\ot_full.json'))"
   ]
  },
  {
   "cell_type": "code",
   "execution_count": 32,
   "metadata": {},
   "outputs": [],
   "source": [
    "# IMPORT REQUIREMENT\n",
    "requirement = pd.read_json(os.path.join(user_credential, r'DB\\filejson\\requirement.json'))"
   ]
  },
  {
   "cell_type": "code",
   "execution_count": 33,
   "metadata": {},
   "outputs": [],
   "source": [
    "# IMPORT WORKPLAN\n",
    "workplan_merge_iex = pd.read_json(os.path.join(user_credential, r'DB\\filejson\\workplan_merge_iex.json'))"
   ]
  },
  {
   "cell_type": "code",
   "execution_count": 34,
   "metadata": {},
   "outputs": [],
   "source": [
    "#IMPORT LABELS\n",
    "labels = pd.read_json(os.path.join(user_credential, r'DB\\filejson\\labels.json'))"
   ]
  },
  {
   "cell_type": "code",
   "execution_count": 35,
   "metadata": {},
   "outputs": [],
   "source": [
    "# BOOKING ATTENDANCE\n",
    "bkn_att = schedule.drop(columns=['Shift_type'])\n",
    "bkn_att_ramco = ramco[['EID', 'Date', 'Value']]\n",
    "bkn_att = pd.merge(bkn_att, tl, on='Emp ID', how='left')\n",
    "bkn_att = pd.merge(bkn_att, bkn_att_ramco, left_on =['Emp ID', 'Date'], right_on=['EID', 'Date'], how='left')\n",
    "bkn_att = bkn_att.drop(columns=['EID'])\n",
    "bkn_att = bkn_att.rename(columns={'Value': 'Ramco'})\n",
    "#get cuic\n",
    "cuic['AgentLoggedOnTime'] = cuic['AgentLoggedOnTime'].astype('float')\n",
    "bkn_att_cuic = cuic[['Employee_ID', 'Session Date','AgentLoggedOnTime']].groupby(['Employee_ID', 'Session Date'], as_index=False).sum()\n",
    "bkn_att_cuic['Session Date'] = pd.to_datetime(bkn_att_cuic['Session Date'], format='mixed')\n",
    "bkn_att = pd.merge(bkn_att, bkn_att_cuic, left_on=['Emp ID', 'Date'], right_on=['Employee_ID', 'Session Date'], how='left')\n",
    "bkn_att = bkn_att.rename(columns={'AgentLoggedOnTime': 'CUIC Actual hrs'})\n",
    "bkn_att['CUIC Actual hrs'] = bkn_att['CUIC Actual hrs']*24\n",
    "#remove Employee_ID no CUIC data\n",
    "bkn_att = bkn_att.drop(columns=['Employee_ID', 'Session Date'])\n",
    "bkn_att = pd.merge(bkn_att, labels, left_on=\"Shift\", right_on=\"Attendance Code\", how=\"left\")\n",
    "\n",
    "#sum OT by agent&ID\n",
    "bkn_att = pd.merge(bkn_att, ot, on=['Emp ID', 'Date'], how=\"left\")\n",
    "bkn_att['OT'] = bkn_att['OT'].fillna(0)\n",
    "bkn_att['CUIC Actual hrs'] = bkn_att['CUIC Actual hrs'].fillna(0)\n",
    "def schedulehrs(x):\n",
    "    if x['Ramco'] == 'PO' and x['OT'] > 0:\n",
    "        return x['OT']\n",
    "    else:\n",
    "        return x['OT'] + x['Schedule']\n",
    "bkn_att['Scheduled hrs'] = bkn_att.apply(schedulehrs, axis=1)\n",
    "bkn_att = bkn_att.rename(columns={'Planned leaves': 'Planned Leave', 'Actual leaves': 'Actual Leave'})\n",
    "bkn_att['Total scheduled'] = bkn_att['Scheduled hrs'] + bkn_att['Planned Leave']\n",
    "\n",
    "#Add Attendance\n",
    "\n",
    "def attendance_func(x):\n",
    "    if x['Shift'] == 'OFF':\n",
    "        if x['Ramco'] =='PO':\n",
    "            result1 = x['CUIC Actual hrs']\n",
    "        else:\n",
    "            result1 = 0\n",
    "    else:\n",
    "        result1 = x['CUIC Actual hrs']\n",
    "\n",
    "    if result1 > x['Scheduled hrs']:\n",
    "        return x['Scheduled hrs']\n",
    "    else:\n",
    "        return result1\n",
    "\n",
    "bkn_att['Attendance'] = bkn_att.apply(attendance_func, axis=1)\n",
    "\n",
    "#Drop columns\n",
    "bkn_att = bkn_att.drop(columns=['Description', 'Type', 'filename'])\n",
    "bkn_att['Date'] = pd.to_datetime(bkn_att['Date'], format ='mixed').dt.strftime('%Y-%m-%d')"
   ]
  },
  {
   "cell_type": "code",
   "execution_count": 36,
   "metadata": {},
   "outputs": [],
   "source": [
    "# EXPORT TO JSON\n",
    "if update_less is True:\n",
    "    bkn_att.to_json(os.path.join(user_credential, r'DB\\filejson\\booking_attendance.json'), orient='records')\n",
    "else:\n",
    "    bkn_att.to_json(os.path.join(user_credential, r'DB\\filejson\\booking_attendance_full.json'), orient='records')"
   ]
  }
 ],
 "metadata": {
  "kernelspec": {
   "display_name": "Python 3",
   "language": "python",
   "name": "python3"
  },
  "language_info": {
   "codemirror_mode": {
    "name": "ipython",
    "version": 3
   },
   "file_extension": ".py",
   "mimetype": "text/x-python",
   "name": "python",
   "nbconvert_exporter": "python",
   "pygments_lexer": "ipython3",
   "version": "3.11.4"
  },
  "orig_nbformat": 4
 },
 "nbformat": 4,
 "nbformat_minor": 2
}
