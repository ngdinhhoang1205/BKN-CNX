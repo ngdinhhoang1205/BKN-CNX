{
 "cells": [
  {
   "cell_type": "code",
   "execution_count": 1,
   "metadata": {},
   "outputs": [],
   "source": [
    "# This is a programm created to observe current headcount from 'internal' roster (ggsheet) and workplan and client requirement.\n",
    "# Here we will also compare them for the mismatches and try to make adjustment ASAP"
   ]
  },
  {
   "cell_type": "code",
   "execution_count": 2,
   "metadata": {},
   "outputs": [],
   "source": [
    "# Libraries\n",
    "import os\n",
    "import pandas as pd\n",
    "from datetime import datetime as dt\n",
    "from datetime import time as t\n",
    "from dateutil import relativedelta\n",
    "import numpy as np\n",
    "from IPython.display import display"
   ]
  },
  {
   "cell_type": "code",
   "execution_count": 3,
   "metadata": {},
   "outputs": [],
   "source": [
    "# IMPORT USER CREDENTIAL HERE. UPDATE THIS SO THAT THE CODE WILL BE ABLE TO RUN WITH EACH SPECIFIC USER\n",
    "user_credential = r'/Users/dinhhoang.nguyen.CONCENTRIX/OneDrive - Concentrix Corporation\\WFM-internal'"
   ]
  },
  {
   "cell_type": "code",
   "execution_count": 4,
   "metadata": {},
   "outputs": [],
   "source": [
    "# IMPORT MASTER ROSTER\n",
    "masterroster = pd.read_json(os.path.join(r'C:', user_credential, r'DB\\filejson\\masterroster.json'))\n",
    "masterroster = masterroster[['Employee_ID', 'LWD', 'Status']]\n",
    "masterroster['LWD'] = pd.to_datetime(masterroster['LWD'], format='mixed').dt.strftime('%Y-%m-%d')"
   ]
  },
  {
   "cell_type": "code",
   "execution_count": 5,
   "metadata": {},
   "outputs": [],
   "source": [
    "# IMPORT SCHEDULE\n",
    "schedule = pd.read_json(os.path.join(r'C:', user_credential, r'DB\\filejson\\schedule.json'))\n",
    "schedule['Week'] = pd.to_datetime(schedule['Date'], format='mixed').dt.strftime('%Y%W')"
   ]
  },
  {
   "cell_type": "code",
   "execution_count": 6,
   "metadata": {},
   "outputs": [],
   "source": [
    "# IMPORT WORKPLAN\n",
    "workplan = pd.read_json(os.path.join(r'C:', user_credential, r'DB\\filejson\\workplan_merge_iex.json'))\n",
    "# Create columns to aggregate Agents'\n",
    "productive_cond = (workplan['Scheduled Activity']=='Email 1')|(workplan['Scheduled Activity']=='Open Time')\n",
    "downtime_cond = (workplan['Scheduled Activity']=='Team Meeting')|(workplan['Scheduled Activity']=='Coaching 1:1')\n",
    "IOS_cond = (workplan['Scheduled Activity']=='Break')|(workplan['Scheduled Activity']=='Break Offline')\n",
    "training_cond = (workplan['Scheduled Activity']=='Training')|(workplan['Scheduled Activity']=='Training Offline')\n",
    "lunch_cond = (workplan['Scheduled Activity']=='Lunch')\n",
    "# Summarize\n",
    "workplan['productive'] = workplan.apply(lambda x: x['Length'] if (x['Scheduled Activity']=='Email 1')|(x['Scheduled Activity']=='Open Time') else 0, axis=1)*24\n",
    "workplan['downtime'] = workplan.apply(lambda x: x['Length'] if (x['Scheduled Activity']=='Team Meeting')|(x['Scheduled Activity']=='Coaching 1:1') else 0, axis=1)*24\n",
    "workplan['IOS'] = workplan.apply(lambda x: x['Length'] if (x['Scheduled Activity']=='Break')|(x['Scheduled Activity']=='Break Offline') else 0, axis=1)*24\n",
    "workplan['training'] = workplan.apply(lambda x: x['Length'] if (x['Scheduled Activity']=='Training')|(x['Scheduled Activity']=='Training Offline') else 0, axis=1)*24\n",
    "workplan['lunch'] = workplan.apply(lambda x: x['Length'] if (x['Scheduled Activity']=='Lunch') else 0, axis=1)*24\n",
    "# Add staffed_time\n",
    "func_cond = {'productive': 'sum', 'downtime': 'sum', 'IOS': 'sum', 'training': 'sum', 'lunch': 'sum'}\n",
    "workplan = workplan.groupby(['EID', 'Date', 'LOB'], as_index=False).agg(func_cond)\n",
    "workplan['staffed_time'] = round(workplan['productive'] + workplan['downtime'] + workplan['IOS'] + workplan['training'] + workplan['lunch'], 3)"
   ]
  },
  {
   "cell_type": "code",
   "execution_count": 7,
   "metadata": {},
   "outputs": [],
   "source": [
    "# Merge schedule and Workplan\n",
    "main_frame = pd.merge(schedule, workplan, left_on=['Emp ID', 'Date'], right_on=['EID', 'Date'], how='left')\n",
    "main_frame[['productive', 'downtime', 'IOS', 'training', 'lunch']] = main_frame[['productive', 'downtime', 'IOS', 'training', 'lunch']].fillna(0)\n",
    "main_frame = main_frame.rename(columns={'LOB_x': 'LOB_Schedule', 'LOB_y': 'LOB_IEX'})"
   ]
  },
  {
   "cell_type": "code",
   "execution_count": 8,
   "metadata": {},
   "outputs": [],
   "source": [
    "# Create columns for validations\n",
    "## check if an agent is available in internal roster but missing in workplan\n",
    "### id_exist is a data frame to check if the agent is missing in a specific date or the whole week\n",
    "id_exist = main_frame[['Week', 'Emp ID', 'EID']].drop_duplicates().groupby(['Week', 'Emp ID'], as_index=False)['EID'].count() #EID will show 1 if any ID in a week, otherwise, it would return 0\n",
    "id_exist = id_exist.rename(columns={'EID': 'id_exist'})\n",
    "main_frame = pd.merge(main_frame, id_exist, on=['Week', 'Emp ID'], how='left')\n",
    "def iex_missing(x):\n",
    "    if x['Shift'] != 'OFF' and pd.isnull(x['EID']):\n",
    "        if x['id_exist'] == 1:\n",
    "            return 'date_missing'\n",
    "        else:\n",
    "            return 'week_missing'\n",
    "    else:\n",
    "        return 'valid'\n",
    "main_frame['iex_missing_name'] = main_frame.apply(iex_missing, axis=1) #we can now categorize if the agent ID is not missing, missing in a date, or the whole week\n",
    "### now we need to explain why the agent is missing\n",
    "### we get the LWD from master roster to check if the agent is still active not not\n",
    "main_frame = pd.merge(main_frame, masterroster, left_on='Emp ID', right_on='Employee_ID', how='left')\n",
    "main_frame = main_frame.drop(columns={'Employee_ID'})"
   ]
  },
  {
   "cell_type": "code",
   "execution_count": 9,
   "metadata": {},
   "outputs": [],
   "source": [
    "# we check if total working time of an agent is 9 in a day or not, if not, we may need to double check again with JP\n",
    "main_frame['staffed_time_missing'] = main_frame.apply(lambda x: 'mismatch' if not(pd.isnull(x['EID'])) and x['staffed_time'] != 9 else 'valid', axis=1)\n",
    "# if the other two is valid, then we will continue to validate if the LOB in the internal roster and workplan is not mismatched\n",
    "main_frame['lob_mismatch'] = main_frame.apply(lambda x: 'mismatch' if not(pd.isnull(x['EID']))and x['LOB_Schedule'] != x['LOB_IEX'] else 'valid', axis=1)"
   ]
  },
  {
   "cell_type": "code",
   "execution_count": 10,
   "metadata": {},
   "outputs": [],
   "source": [
    "# Check attrition in workplan\n",
    "workplan['Week'] = pd.to_datetime(workplan['Date'], format='mixed').dt.strftime('%Y-%m')\n",
    "workplan_attrition = workplan\n",
    "workplan_attrition = pd.merge(workplan_attrition, masterroster, left_on='EID', right_on='Employee_ID', how='left')\n",
    "workplan_attrition['invalid_plan'] = (pd.to_datetime(workplan_attrition['LWD'], format='mixed') - workplan_attrition['Date']).dt.days"
   ]
  },
  {
   "cell_type": "code",
   "execution_count": 11,
   "metadata": {},
   "outputs": [],
   "source": [
    "workplan_attrition['invalid_plan'] = (pd.to_datetime(workplan_attrition['LWD'], format='mixed') - workplan_attrition['Date']).dt.days\n"
   ]
  },
  {
   "cell_type": "code",
   "execution_count": 14,
   "metadata": {},
   "outputs": [],
   "source": [
    "# Export data to excel\n",
    "path_1 = os.path.join(r'C:', user_credential, 'Dispatch files\\Roster validation\\Roster Validation.xlsx')\n",
    "\n",
    "with pd.ExcelWriter(path_1, mode=\"a\", engine=\"openpyxl\",if_sheet_exists=\"replace\") as writer:\n",
    "    main_frame.to_excel(writer, sheet_name='Sheet1', index=False)\n",
    "    workplan_attrition.to_excel(writer, sheet_name='Sheet2', index=False)"
   ]
  }
 ],
 "metadata": {
  "kernelspec": {
   "display_name": "Python 3",
   "language": "python",
   "name": "python3"
  },
  "language_info": {
   "codemirror_mode": {
    "name": "ipython",
    "version": 3
   },
   "file_extension": ".py",
   "mimetype": "text/x-python",
   "name": "python",
   "nbconvert_exporter": "python",
   "pygments_lexer": "ipython3",
   "version": "3.11.4"
  },
  "orig_nbformat": 4
 },
 "nbformat": 4,
 "nbformat_minor": 2
}
