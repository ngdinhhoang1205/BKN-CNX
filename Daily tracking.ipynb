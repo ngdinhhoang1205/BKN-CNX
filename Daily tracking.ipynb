{
 "cells": [
  {
   "cell_type": "code",
   "execution_count": 4,
   "metadata": {},
   "outputs": [],
   "source": [
    "#libraries\n",
    "import os\n",
    "import pandas as pd\n",
    "from datetime import datetime as dt\n",
    "from datetime import time as t\n",
    "import numpy as np"
   ]
  },
  {
   "cell_type": "code",
   "execution_count": 5,
   "metadata": {},
   "outputs": [],
   "source": [
    "# source\n",
    "## Hoang\n",
    "eps_path = r\"C:\\Users\\dinhhoang.nguyen\\OneDrive - Concentrix Corporation\\WFM-internal\\Data\\EPS Tableau\\EPS Query\"\n",
    "cpi_path = r\"C:\\Users\\dinhhoang.nguyen\\OneDrive - Concentrix Corporation\\WFM-internal\\Data\\Ticket\\CPI Query\"\n",
    "aht_path = r\"C:\\Users\\dinhhoang.nguyen\\OneDrive - Concentrix Corporation\\WFM-internal\\Data\\AHT\\AHT query\"\n",
    "csat_path = r\"C:\\Users\\dinhhoang.nguyen\\OneDrive - Concentrix Corporation\\WFM-internal\\Data\\CSAT RAW\\CSAT Query\"\n",
    "cuic_path = r\"C:\\Users\\dinhhoang.nguyen\\OneDrive - Concentrix Corporation\\WFM-internal\\Data\\CUIC\\CUIC Query\"\n",
    "exception_path = r\"C:\\Users\\dinhhoang.nguyen\\OneDrive - Concentrix Corporation\\WFM-internal\\Data\\Exception\"\n",
    "extension_path = r\"C:\\Users\\dinhhoang.nguyen\\OneDrive - Concentrix Corporation\\WFM-internal\\Data\\Extension\"\n",
    "iex_path = r\"C:\\Users\\dinhhoang.nguyen\\OneDrive - Concentrix Corporation\\WFM-internal\\Data\\IEX\"\n",
    "## Tram\n",
    "ioshrinkage_path = r\"C:\\Users\\dinhhoang.nguyen\\OneDrive - Concentrix Corporation\\WFM-internal\\Data\\IO Shrinkage\"\n",
    "ot_path = r\"C:\\Users\\dinhhoang.nguyen\\OneDrive - Concentrix Corporation\\WFM-internal\\Data\\OT\\OT Query\"\n",
    "psat_path = r\"C:\\Users\\dinhhoang.nguyen\\OneDrive - Concentrix Corporation\\WFM-internal\\Data\\PSAT RAW\\PSAT Query\"\n",
    "quality_path = r\"C:\\Users\\dinhhoang.nguyen\\OneDrive - Concentrix Corporation\\WFM-internal\\Data\\Quality.v2\\Quality query\"\n",
    "ramco_path = r\"C:\\Users\\dinhhoang.nguyen\\OneDrive - Concentrix Corporation\\WFM-internal\\Data\\Ramco\\Ramco Query\"\n",
    "ramcoot_path = r\"C:\\Users\\dinhhoang.nguyen\\OneDrive - Concentrix Corporation\\WFM-internal\\Data\\Ramco OT\\Ramco OT Query\"\n",
    "requirement_path = r\"C:\\Users\\dinhhoang.nguyen\\OneDrive - Concentrix Corporation\\WFM-internal\\Data\\Requirement\"\n",
    "## Thanh\n",
    "schedule_path = r\"C:\\Users\\dinhhoang.nguyen\\OneDrive - Concentrix Corporation\\WFM-internal\\Data\\Schedule 2\\Schedule Query\"\n",
    "tl_path = r\"C:\\Users\\dinhhoang.nguyen\\OneDrive - Concentrix Corporation\\WFM-internal\\Data\\TL\"\n",
    "training_path = r\"C:\\Users\\dinhhoang.nguyen\\OneDrive - Concentrix Corporation\\WFM-internal\\Data\\Training\"\n",
    "masterroster_path = r\"C:\\Users\\dinhhoang.nguyen\\OneDrive - Concentrix Corporation\\WFM-internal\\Data\\User\"\n",
    "workplan_path = r\"C:\\Users\\dinhhoang.nguyen\\OneDrive - Concentrix Corporation\\WFM-internal\\Data\\Workplan\"\n"
   ]
  },
  {
   "cell_type": "code",
   "execution_count": 6,
   "metadata": {},
   "outputs": [],
   "source": [
    "#FUNCTION TO IMPORT FOLDERS\n",
    "def import_csv(path):\n",
    "    raw = []\n",
    "    for file in os.listdir(path):\n",
    "        if file.endswith(\".csv\"):\n",
    "            file_path = os.path.join(path, file)\n",
    "            file_data = pd.read_csv(file_path)\n",
    "            file_data[\"filename\"] = file\n",
    "            raw.append(file_data)\n",
    "            final_raw = pd.concat(raw, ignore_index=True)\n",
    "    return final_raw\n",
    "    \n",
    "def import_xlsx(path, sheet_name):\n",
    "    raw = []\n",
    "    for file in os.listdir(path):\n",
    "        if file.endswith(\".xlsx\"):\n",
    "            file_path = os.path.join(path, file)\n",
    "            file_data = pd.read_excel(file_path, engine=\"openpyxl\", sheet_name = sheet_name)\n",
    "            file_data[\"filename\"] = file\n",
    "            raw.append(file_data)\n",
    "            final_raw = pd.concat(raw, ignore_index=True)\n",
    "    return final_raw"
   ]
  },
  {
   "cell_type": "code",
   "execution_count": 2,
   "metadata": {},
   "outputs": [
    {
     "ename": "NameError",
     "evalue": "name 'pd' is not defined",
     "output_type": "error",
     "traceback": [
      "\u001b[1;31m---------------------------------------------------------------------------\u001b[0m",
      "\u001b[1;31mNameError\u001b[0m                                 Traceback (most recent call last)",
      "Cell \u001b[1;32mIn[2], line 2\u001b[0m\n\u001b[0;32m      1\u001b[0m \u001b[39m# IMPORT MASTER ROSTER\u001b[39;00m\n\u001b[1;32m----> 2\u001b[0m masterroster \u001b[39m=\u001b[39m pd\u001b[39m.\u001b[39mread_excel(\u001b[39mr\u001b[39m\u001b[39m\"\u001b[39m\u001b[39mC:\u001b[39m\u001b[39m\\\u001b[39m\u001b[39mUsers\u001b[39m\u001b[39m\\\u001b[39m\u001b[39mdinhhoang.nguyen\u001b[39m\u001b[39m\\\u001b[39m\u001b[39mOneDrive - Concentrix Corporation\u001b[39m\u001b[39m\\\u001b[39m\u001b[39mWFM-internal\u001b[39m\u001b[39m\\\u001b[39m\u001b[39mData\u001b[39m\u001b[39m\\\u001b[39m\u001b[39mUser\u001b[39m\u001b[39m\\\u001b[39m\u001b[39mCNX Global Master Roster.xlsx\u001b[39m\u001b[39m\"\u001b[39m, sheet_name\u001b[39m=\u001b[39m\u001b[39m\"\u001b[39m\u001b[39mSheet1\u001b[39m\u001b[39m\"\u001b[39m)\n\u001b[0;32m      3\u001b[0m masterroster[\u001b[39m'\u001b[39m\u001b[39mEmployee_ID\u001b[39m\u001b[39m'\u001b[39m] \u001b[39m=\u001b[39m masterroster[\u001b[39m'\u001b[39m\u001b[39mEmployee_ID\u001b[39m\u001b[39m'\u001b[39m]\u001b[39m.\u001b[39mastype(\u001b[39m\"\u001b[39m\u001b[39mInt64\u001b[39m\u001b[39m\"\u001b[39m)\n\u001b[0;32m      5\u001b[0m masterroster\u001b[39m.\u001b[39minfo()\n",
      "\u001b[1;31mNameError\u001b[0m: name 'pd' is not defined"
     ]
    }
   ],
   "source": [
    "# IMPORT MASTER ROSTER\n",
    "masterroster = pd.read_excel(r\"C:\\Users\\dinhhoang.nguyen\\OneDrive - Concentrix Corporation\\WFM-internal\\Data\\User\\CNX Global Master Roster.xlsx\", sheet_name=\"Sheet1\")\n",
    "masterroster['Employee_ID'] = masterroster['Employee_ID'].astype(\"Int64\")\n",
    "\n",
    "masterroster.info()"
   ]
  },
  {
   "cell_type": "code",
   "execution_count": 8,
   "metadata": {},
   "outputs": [
    {
     "name": "stdout",
     "output_type": "stream",
     "text": [
      "<class 'pandas.core.frame.DataFrame'>\n",
      "RangeIndex: 134315 entries, 0 to 134314\n",
      "Data columns (total 9 columns):\n",
      " #   Column               Non-Null Count   Dtype \n",
      "---  ------               --------------   ----- \n",
      " 0   EID                  134315 non-null  int64 \n",
      " 1   Session Login        134315 non-null  object\n",
      " 2   Session Logout       134315 non-null  object\n",
      " 3   BPE Code             134315 non-null  object\n",
      " 4   Total Time           134315 non-null  int64 \n",
      " 5   Session login date   134315 non-null  object\n",
      " 6   Session login time   134315 non-null  object\n",
      " 7   Session logout date  134315 non-null  object\n",
      " 8   Session logout time  134315 non-null  object\n",
      "dtypes: int64(2), object(7)\n",
      "memory usage: 9.2+ MB\n"
     ]
    }
   ],
   "source": [
    "# IMPORT EPS\n",
    "eps = import_csv(path = eps_path)\n",
    "eps = eps.drop(columns=['Index', 'filename', 'Date'])\n",
    "eps['Session login VN'] = pd.to_datetime(eps['Session Login'], format ='mixed') + pd.Timedelta(hours=5)\n",
    "eps['Session logout VN'] = pd.to_datetime(eps['Session Logout'], format ='mixed') + pd.Timedelta(hours=5)\n",
    "eps['Session login date'] = pd.to_datetime(eps['Session login VN']).dt.date\n",
    "eps['Session login time'] = pd.to_datetime(eps['Session login VN']).dt.time\n",
    "eps['Session logout date'] = pd.to_datetime(eps['Session logout VN']).dt.date\n",
    "eps['Session logout time'] = pd.to_datetime(eps['Session logout VN']).dt.time\n",
    "eps = eps.drop(columns=['Session login VN', 'Session logout VN', 'Username', 'manager_username', 'sitecode', 'Session Time'])\n",
    "eps.info()\n",
    "eps.to_csv(r\"C:\\Users\\dinhhoang.nguyen\\OneDrive - Concentrix Corporation\\WFM-internal\\DB\\filecsv\\eps_test.csv\")\n"
   ]
  },
  {
   "cell_type": "code",
   "execution_count": 9,
   "metadata": {},
   "outputs": [
    {
     "name": "stdout",
     "output_type": "stream",
     "text": [
      "<class 'pandas.core.frame.DataFrame'>\n",
      "RangeIndex: 54428 entries, 0 to 54427\n",
      "Data columns (total 5 columns):\n",
      " #   Column             Non-Null Count  Dtype         \n",
      "---  ------             --------------  -----         \n",
      " 0   Staff Name         54428 non-null  object        \n",
      " 1   Channel            41906 non-null  object        \n",
      " 2   Number of Records  54428 non-null  int64         \n",
      " 3   Date               54428 non-null  datetime64[ns]\n",
      " 4   Employee_ID        53970 non-null  Int64         \n",
      "dtypes: Int64(1), datetime64[ns](1), int64(1), object(2)\n",
      "memory usage: 2.1+ MB\n",
      "           Staff Name    Channel  Number of Records       Date  Employee_ID\n",
      "0        Mikael Duong      phone                  4 1990-01-01    102208111\n",
      "1            Kelly Le      phone                  1 1990-01-01    102207120\n",
      "2       Jennie Nguyen      phone                  9 1990-01-01    102207121\n",
      "3        Mikael Duong  messaging                  7 1990-01-01    102208111\n",
      "4            Kelly Le  messaging                  6 1990-01-01    102207120\n",
      "...               ...        ...                ...        ...          ...\n",
      "54423    Becky Nguyen      email                  3 2023-09-17    102200693\n",
      "54424   Viktor Nguyen        NaN                  3 2023-09-17    102173701\n",
      "54425  Michael Nguyen        NaN                  4 2023-09-17    102173703\n",
      "54426       Mia Duong        NaN                  4 2023-09-17    102200711\n",
      "54427    Becky Nguyen        NaN                  3 2023-09-17    102200693\n",
      "\n",
      "[54428 rows x 5 columns]\n"
     ]
    }
   ],
   "source": [
    "#IMPORT CPI\n",
    "cpi = import_csv(path = cpi_path)\n",
    "cpi = cpi.drop(columns=['Region Partner', 'Sitecode', 'Mp Csm Name', 'Mp Team Name'])\n",
    "cpi['Date'] = cpi['filename'].replace(\".csv\", \"\", regex=True)\n",
    "cpi['Date'] = pd.to_datetime(cpi['Date'], format = \"mixed\")\n",
    "\n",
    "\n",
    "masterroster_cpi = masterroster[['Employee_ID', 'TED Name']]\n",
    "cpi = pd.merge(cpi, masterroster_cpi, left_on=\"Staff Name\", right_on=\"TED Name\", how=\"left\")\n",
    "cpi = cpi.drop(columns=['filename', 'TED Name'])\n",
    "\n",
    "cpi.info()\n",
    "print(cpi)\n",
    "cpi.to_csv(r\"C:\\Users\\dinhhoang.nguyen\\OneDrive - Concentrix Corporation\\WFM-internal\\DB\\filecsv\\cpi_test.csv\")"
   ]
  },
  {
   "cell_type": "code",
   "execution_count": 16,
   "metadata": {},
   "outputs": [
    {
     "name": "stderr",
     "output_type": "stream",
     "text": [
      "C:\\Users\\dinhhoang.nguyen\\AppData\\Local\\Temp\\VSCodePortable-x64Temp\\ipykernel_25144\\2378756514.py:7: DtypeWarning: Columns (10,11) have mixed types. Specify dtype option on import or set low_memory=False.\n",
      "  file_data = pd.read_csv(file_path)\n"
     ]
    },
    {
     "name": "stdout",
     "output_type": "stream",
     "text": [
      "<class 'pandas.core.frame.DataFrame'>\n",
      "RangeIndex: 313932 entries, 0 to 313931\n",
      "Data columns (total 15 columns):\n",
      " #   Column                Non-Null Count   Dtype         \n",
      "---  ------                --------------   -----         \n",
      " 0   Date                  313932 non-null  datetime64[ns]\n",
      " 1   Start Time            313932 non-null  object        \n",
      " 2   End Time              313932 non-null  object        \n",
      " 3   Staff                 313932 non-null  object        \n",
      " 4   Language              234090 non-null  object        \n",
      " 5   Item Channel          313932 non-null  object        \n",
      " 6   Topic                 313932 non-null  object        \n",
      " 7   Subtopic              313932 non-null  object        \n",
      " 8   \"Handling Time\"       313932 non-null  object        \n",
      " 9   First Email Id        0 non-null       float64       \n",
      " 10  First Hotel Id        267584 non-null  object        \n",
      " 11  First Reservation Id  257111 non-null  object        \n",
      " 12  Tooltip Phone Time    67292 non-null   object        \n",
      " 13  Handling Time         313932 non-null  float64       \n",
      " 14  Employee_ID           312385 non-null  float64       \n",
      "dtypes: datetime64[ns](1), float64(3), object(11)\n",
      "memory usage: 35.9+ MB\n",
      "             Date           Start Time             End Time         Staff  \\\n",
      "0      2023-08-01        1/8/2023 0:11        1/8/2023 0:12        Min Le   \n",
      "1      2023-08-01        1/8/2023 0:25        1/8/2023 0:37       Jane Ng   \n",
      "2      2023-08-01        1/8/2023 0:31        1/8/2023 0:41       Jane Ng   \n",
      "3      2023-08-01        1/8/2023 0:41        1/8/2023 0:56       Jane Ng   \n",
      "4      2023-08-01        1/8/2023 1:02        1/8/2023 1:35  Shannah Pham   \n",
      "...           ...                  ...                  ...           ...   \n",
      "313927 2023-09-16  16/09/2023 23:57:24  17/09/2023 00:02:33    Alina Dinh   \n",
      "313928 2023-09-16  16/09/2023 23:58:02  17/09/2023 00:05:08   Sophie Pham   \n",
      "313929 2023-09-16  16/09/2023 23:58:07  17/09/2023 00:00:15   Sophie Pham   \n",
      "313930 2023-09-16  16/09/2023 23:58:16  16/09/2023 23:58:18    Andie Tran   \n",
      "313931 2023-09-16  16/09/2023 23:58:38  17/09/2023 00:03:20     Mike Tran   \n",
      "\n",
      "       Language Item Channel         Topic  \\\n",
      "0           NaN      Unknown    Relocation   \n",
      "1       English        Email    Relocation   \n",
      "2       English        Email    Relocation   \n",
      "3       English        Email  Modification   \n",
      "4           NaN      Unknown       Unknown   \n",
      "...         ...          ...           ...   \n",
      "313927      NaN          SNR       Unknown   \n",
      "313928      NaN      Unknown   Information   \n",
      "313929      NaN      Unknown   Information   \n",
      "313930      NaN      Unknown       Unknown   \n",
      "313931      NaN          SNR  Cancellation   \n",
      "\n",
      "                                                 Subtopic \"Handling Time\"  \\\n",
      "0                  accommodation_cannot_accommodate_guest   Handling Time   \n",
      "1                  accommodation_cannot_accommodate_guest   Handling Time   \n",
      "2                  accommodation_cannot_accommodate_guest   Handling Time   \n",
      "3       CS_report_or_request_help_with_incorrectly_loa...   Handling Time   \n",
      "4                                  Customer_level_actions   Handling Time   \n",
      "...                                                   ...             ...   \n",
      "313927                                            Unknown   Handling Time   \n",
      "313928     CS_request_information_other_free_typing_field   Handling Time   \n",
      "313929     CS_request_information_other_free_typing_field   Handling Time   \n",
      "313930                                 ReservationRelated   Handling Time   \n",
      "313931                            CS_request_cancellation   Handling Time   \n",
      "\n",
      "        First Email Id First Hotel Id First Reservation Id  \\\n",
      "0                  NaN        7916582           3709125556   \n",
      "1                  NaN       10538247           2933359225   \n",
      "2                  NaN       10010179           2802616410   \n",
      "3                  NaN        9651702           3889216084   \n",
      "4                  NaN            NaN                  NaN   \n",
      "...                ...            ...                  ...   \n",
      "313927             NaN         374793           4256211704   \n",
      "313928             NaN        1108723           4109888756   \n",
      "313929             NaN        7348098           4182735065   \n",
      "313930             NaN            NaN                  NaN   \n",
      "313931             NaN        1534999           4146997837   \n",
      "\n",
      "                               Tooltip Phone Time  Handling Time  Employee_ID  \n",
      "0                                             NaN     299.000000  102219144.0  \n",
      "1                                             NaN     332.909091  102203539.0  \n",
      "2                                             NaN     271.909091  102203539.0  \n",
      "3                                             NaN     740.909091  102203539.0  \n",
      "4                                             NaN     257.428571  102203562.0  \n",
      "...                                           ...            ...          ...  \n",
      "313927  Talk Time: 152 Wrap Time: 5 Hold Time 152     316.700000  102254231.0  \n",
      "313928                                        NaN     248.937500  102254131.0  \n",
      "313929                                        NaN     145.937500  102254131.0  \n",
      "313930                                        NaN      64.588235  102238409.0  \n",
      "313931   Talk Time: 198 Wrap Time: 75 Hold Time 0     276.125000  102254203.0  \n",
      "\n",
      "[313932 rows x 15 columns]\n"
     ]
    }
   ],
   "source": [
    "#IMPORT AHT\n",
    "aht = import_csv(path = aht_path)\n",
    "aht = aht.drop(columns=['filename'])\n",
    "masterroster_aht = masterroster[['Employee_ID', 'TED Name']]\n",
    "aht = pd.merge(aht, masterroster_aht, left_on='Staff', right_on ='TED Name', how='left')\n",
    "aht = aht.drop(columns=['TED Name'])\n",
    "aht['Date'] = pd.to_datetime(aht['Date'], format='mixed')\n",
    "\n",
    "aht.info()\n",
    "\n",
    "print(aht)"
   ]
  },
  {
   "cell_type": "code",
   "execution_count": 15,
   "metadata": {},
   "outputs": [
    {
     "name": "stdout",
     "output_type": "stream",
     "text": [
      "        Survey Id  Reservation           Team    Channel          Staff  \\\n",
      "0      3018426701   3056847985   Duy Hoang Ho      email     Mia Nguyen   \n",
      "1      3018613711   2665820829     Nina Huynh      email     Henry Phan   \n",
      "2      3018623696   3548174839     Nina Huynh  messaging     Henry Phan   \n",
      "3      3018646254   2314992465   Duy Hoang Ho  messaging     Ann Nguyen   \n",
      "4      3018660236   3138227680     Nina Huynh      email     Naomi Tran   \n",
      "...           ...          ...            ...        ...            ...   \n",
      "19968  3378146389   4088395169     Nina Huynh      phone     Lizzy Dinh   \n",
      "19969  3356856217   3586016392      An Nguyen      email       Vince Le   \n",
      "19970  3373841198   3280129076      Kobe Tran      phone   Issac Nguyen   \n",
      "19971  3346163735   3267877510  Phoebe Nguyen      phone  Celcelia Pham   \n",
      "19972  3345078384   3364238064     Nina Huynh      phone       Gus Pham   \n",
      "\n",
      "             Type      Date   \\\n",
      "0      touchpoint 2023-06-01   \n",
      "1      touchpoint 2023-06-01   \n",
      "2      touchpoint 2023-06-01   \n",
      "3      touchpoint 2023-06-01   \n",
      "4      touchpoint 2023-06-01   \n",
      "...           ...        ...   \n",
      "19968  touchpoint 2023-09-06   \n",
      "19969  touchpoint 2023-09-05   \n",
      "19970  touchpoint 2023-09-05   \n",
      "19971  touchpoint 2023-09-02   \n",
      "19972  touchpoint 2023-09-01   \n",
      "\n",
      "                               Topic of the first Ticket            Language  \\\n",
      "0                    CS_request_cancellation_by_property  English (American)   \n",
      "1                                CS_discuss_no_show_fees             English   \n",
      "2                               CS_verify_payment_status              Korean   \n",
      "3         CS_request_information_other_free_typing_field              Korean   \n",
      "4                                           CS_claim_bpg  English (American)   \n",
      "...                                                  ...                 ...   \n",
      "19968                        CS_change_number_of_guest_s              Hebrew   \n",
      "19969  CS_request_refund_of_cancellation_fee_or_prepa...             Turkish   \n",
      "19970     CS_request_information_other_free_typing_field  English (American)   \n",
      "19971             accommodation_cannot_accommodate_guest             English   \n",
      "19972  CS_request_refund_due_to_incorrect_charge_by_a...  English (American)   \n",
      "\n",
      "          Csat 2.0 Score  Employee_ID  \n",
      "0         Very Satisfied  102025366.0  \n",
      "1      Very Dissatisfied  102198175.0  \n",
      "2         Very Satisfied  102198175.0  \n",
      "3         Very Satisfied  102026221.0  \n",
      "4      Very Dissatisfied  101993687.0  \n",
      "...                  ...          ...  \n",
      "19968  Very Dissatisfied  102211164.0  \n",
      "19969     Very Satisfied  102152022.0  \n",
      "19970     Very Satisfied  102215389.0  \n",
      "19971     Very Satisfied  102073372.0  \n",
      "19972     Very Satisfied  102242586.0  \n",
      "\n",
      "[19973 rows x 11 columns]\n"
     ]
    }
   ],
   "source": [
    "#IMPORT CSAT\n",
    "csat = import_csv(path = csat_path)\n",
    "masterroster_csat = masterroster[['Employee_ID', 'TED Name']]\n",
    "\n",
    "\n",
    "csat['Date '] = pd.to_datetime(csat['Date '], format='%m/%d/%Y')\n",
    "csat = pd.merge(csat, masterroster_csat, left_on='Staff', right_on ='TED Name', how='left')\n",
    "\n",
    "csat = csat.drop(columns=['Sort by Dimension', 'Has Comment', '\"Comment\"', 'Reservation Link', 'View comment', 'Sort by Dimension (copy)', 'filename', 'TED Name', 'Max. Sort by Dimension'])\n",
    "print(csat)"
   ]
  },
  {
   "cell_type": "code",
   "execution_count": 12,
   "metadata": {},
   "outputs": [
    {
     "name": "stdout",
     "output_type": "stream",
     "text": [
      "          Emp ID          Name        Date      Shift           LOB Shift_type\n",
      "0      102003080  Doan Ai Khue  2023-07-31  1400-2300  Senior VICSP         DS\n",
      "1      102003080  Doan Ai Khue  2023-08-01        OFF  Senior VICSP        OFF\n",
      "2      102003080  Doan Ai Khue  2023-08-02  1400-2300  Senior VICSP         DS\n",
      "3      102003080  Doan Ai Khue  2023-08-03  1400-2300  Senior VICSP         DS\n",
      "4      102003080  Doan Ai Khue  2023-08-04  1400-2300  Senior VICSP         DS\n",
      "...          ...           ...         ...        ...           ...        ...\n",
      "29709  102269110   Lê Phúc Thọ  2023-09-27  1300-2200            EN         DS\n",
      "29710  102269110   Lê Phúc Thọ  2023-09-28  1300-2200            EN         DS\n",
      "29711  102269110   Lê Phúc Thọ  2023-09-29  1300-2200            EN         DS\n",
      "29712  102269110   Lê Phúc Thọ  2023-09-30        OFF            EN        OFF\n",
      "29713  102269110   Lê Phúc Thọ  2023-10-01        OFF            EN        OFF\n",
      "\n",
      "[29714 rows x 6 columns]\n"
     ]
    }
   ],
   "source": [
    "# IMPORT SCHEDULE\n",
    "schedule = import_xlsx(path = schedule_path,sheet_name='Sheet1')\n",
    "schedule['Attribute'] = pd.to_datetime(schedule['Attribute'],format='mixed').dt.date\n",
    "schedule=schedule.iloc[:,0:8]\n",
    "condition=(schedule['Value']=='OFF')|(schedule['Value']=='AL')|(schedule['Value']=='CO')|(schedule['Value']=='UPL')|(schedule['Value']=='Training')\n",
    "schedule['Shift'] = np.where(condition, 'OFF', schedule['NS Check'])\n",
    "schedule=schedule[['Emp ID','Name','Attribute','Value','LOB','Shift']]\n",
    "schedule=schedule.rename(columns={'Attribute':'Date','Value':'Shift','Shift':'Shift_type'})\n",
    "\n",
    "print(schedule)"
   ]
  },
  {
   "cell_type": "code",
   "execution_count": 17,
   "metadata": {},
   "outputs": [
    {
     "ename": "",
     "evalue": "",
     "output_type": "error",
     "traceback": [
      "\u001b[1;31mThe Kernel crashed while executing code in the the current cell or a previous cell. Please review the code in the cell(s) to identify a possible cause of the failure. Click <a href='https://aka.ms/vscodeJupyterKernelCrash'>here</a> for more info. View Jupyter <a href='command:jupyter.viewOutput'>log</a> for further details."
     ]
    }
   ],
   "source": [
    "#IMPORT CUIC\n",
    "cuic = import_xlsx(path = cuic_path,sheet_name=\"Khoa Interval Attendance Check-\")\n",
    "cuic['Date'] = pd.to_datetime(cuic['Interval'], format = \"mixed\").dt.date\n",
    "cuic['Time'] = pd.to_datetime(cuic['Interval'], format = \"mixed\").dt.time\n",
    "cuic = pd.merge(cuic, masterroster, left_on='LoginName', right_on ='Booking Login ID', how='left')\n",
    "cuic=cuic.iloc[:,0:9]\n",
    "cuic = pd.merge(cuic, schedule, left_on=['Employee_ID','Date'], right_on =['Emp ID','Date'], how='left')\n",
    "cuic=cuic[['FullName','LoginName','Interval','AgentAvailTime','AgentLoggedOnTime','Date','Time','Employee_ID','Shift_type','Shift']]\n",
    "cuic['Date-1']=pd.to_datetime(cuic['Date'], format ='mixed') - pd.Timedelta(1,\"d\")\n",
    "cuic['Date-1']=pd.to_datetime(cuic['Date-1'], format ='mixed').dt.date\n",
    "cuic = pd.merge(cuic, schedule, left_on=['Employee_ID','Date-1'], right_on =['Emp ID','Date'], how='left')\n",
    "cuic=cuic[['FullName','LoginName','Interval','AgentAvailTime','AgentLoggedOnTime','Date_x','Time','Employee_ID','Shift_type_x','Shift_x','Date-1','Shift_type_y','Shift_y']]\n",
    "mytime=t(12,0,0)\n",
    "condition=(cuic['Shift_type_x']!='DS')&(cuic['Shift_type_y']=='NS')&(cuic['Time']<mytime)\n",
    "cuic['Session Date'] = np.where(condition, cuic['Date-1'], cuic['Date_x'])\n",
    "cuic=cuic[['FullName','LoginName','Interval','AgentAvailTime','AgentLoggedOnTime','Date_x','Employee_ID','Shift_type_x','Session Date']]\n",
    "cuic=cuic.rename(columns={'Date_x':'Date','Shift_type_x':'Shift_type'})"
   ]
  },
  {
   "cell_type": "code",
   "execution_count": null,
   "metadata": {},
   "outputs": [
    {
     "name": "stdout",
     "output_type": "stream",
     "text": [
      "<class 'pandas.core.frame.DataFrame'>\n",
      "RangeIndex: 8 entries, 0 to 7\n",
      "Data columns (total 6 columns):\n",
      " #   Column                       Non-Null Count  Dtype         \n",
      "---  ------                       --------------  -----         \n",
      " 0   Emp ID                       8 non-null      int64         \n",
      " 1   Date                         8 non-null      datetime64[ns]\n",
      " 2   Exception request \n",
      "(Minute)  8 non-null      int64         \n",
      " 3   Reason                       8 non-null      object        \n",
      " 4   TL                           8 non-null      object        \n",
      " 5   OM                           8 non-null      object        \n",
      "dtypes: datetime64[ns](1), int64(2), object(3)\n",
      "memory usage: 516.0+ bytes\n"
     ]
    }
   ],
   "source": [
    "#EXCEPTION\n",
    "exceptional_hrs = import_xlsx(path= exception_path, sheet_name=\"Sheet1\")\n",
    "exceptional_hrs = exceptional_hrs.rename(columns={'Date \\n(MM/DD/YYYY)':'Date'})\n",
    "exceptional_hrs = exceptional_hrs.drop(columns=['filename'])\n",
    "\n",
    "exceptional_hrs.info()\n"
   ]
  },
  {
   "cell_type": "code",
   "execution_count": null,
   "metadata": {},
   "outputs": [
    {
     "name": "stdout",
     "output_type": "stream",
     "text": [
      "        Emp ID  Extension Number\n",
      "0    101754274          72786027\n",
      "1    101758902          72786060\n",
      "2    101758951          72786058\n",
      "3    101758868          72786059\n",
      "4    101631001          72786086\n",
      "..         ...               ...\n",
      "524  102278515          72786990\n",
      "525  102278516          72786860\n",
      "526  102279846          72786973\n",
      "527  102279847          72786988\n",
      "528  102279848          72786563\n",
      "\n",
      "[529 rows x 2 columns]\n"
     ]
    }
   ],
   "source": [
    "#IMPORT EXTENSION\n",
    "extension = import_xlsx(path= extension_path, sheet_name=\"Sheet1\")\n",
    "extension = extension[['Emp ID', 'Extension Number']]\n",
    "extension['Extension Number'] = extension['Extension Number'].astype(\"Int64\")\n",
    "print(extension)\n"
   ]
  },
  {
   "cell_type": "code",
   "execution_count": null,
   "metadata": {},
   "outputs": [
    {
     "name": "stdout",
     "output_type": "stream",
     "text": [
      "     ID Agent        EID\n",
      "0     3006158  101988331\n",
      "1     3009891  101754192\n",
      "2     3011158  101631001\n",
      "3     3014249  101769330\n",
      "4     3014252  101769328\n",
      "..        ...        ...\n",
      "587   3069722  102278512\n",
      "588   3069723  102278397\n",
      "589   3069755  102279847\n",
      "590   3069759  102279846\n",
      "591   3069760  102279848\n",
      "\n",
      "[592 rows x 2 columns]\n"
     ]
    }
   ],
   "source": [
    "#IMPORT IEX ID\n",
    "iex = import_xlsx(path = iex_path, sheet_name=\"Sheet1\")\n",
    "iex = iex[['ID Agent', 'Personal ID']]\n",
    "iex = iex.rename(columns={'Personal ID': 'EID'})\n",
    "print(iex)"
   ]
  },
  {
   "cell_type": "code",
   "execution_count": null,
   "metadata": {},
   "outputs": [
    {
     "name": "stdout",
     "output_type": "stream",
     "text": [
      "        Emp ID Supervisor\n",
      "0    101754274       Nina\n",
      "1    101758868       Nina\n",
      "2    101993685   John Luu\n",
      "3    101993760   John Luu\n",
      "4    102177117         An\n",
      "..         ...        ...\n",
      "594  102265696        Gio\n",
      "595  102265697       Rosa\n",
      "596  102267302        Gio\n",
      "597  102267344       Rosa\n",
      "598  102267481        Gio\n",
      "\n",
      "[599 rows x 2 columns]\n"
     ]
    }
   ],
   "source": [
    "# IMPORT TL\n",
    "tl = pd.read_excel(os.path.join(tl_path, \"TL List.xlsx\"),sheet_name='Sheet1')\n",
    "tl=tl.iloc[:,0:6]\n",
    "tl=tl.rename(columns={'Supervisor (no need fill)': 'Supervisor'})\n",
    "tl=tl.drop(columns=['Wave', 'Name', 'LOB', 'Full name (VN)'])\n",
    "print(tl)"
   ]
  },
  {
   "cell_type": "code",
   "execution_count": null,
   "metadata": {},
   "outputs": [
    {
     "name": "stdout",
     "output_type": "stream",
     "text": [
      "           Date        EID    LOB  Duration\n",
      "0    2023-05-16  102198234  VICSG       7.5\n",
      "1    2023-05-16  101993685  VICSG       7.5\n",
      "2    2023-05-16  101993770  VICSG       7.5\n",
      "3    2023-05-16  102168268     NL       7.5\n",
      "4    2023-05-16  102168217    ID4       7.5\n",
      "..          ...        ...    ...       ...\n",
      "177  2023-07-28  102273515     EN       3.0\n",
      "178  2023-07-28  102273437     EN       3.0\n",
      "179  2023-07-28  102273538     EN       3.0\n",
      "180  2023-07-28  102277706     EN       3.0\n",
      "181  2023-07-28  102274819     EN       3.0\n",
      "\n",
      "[182 rows x 4 columns]\n"
     ]
    }
   ],
   "source": [
    "# IMPORT TRAINING\n",
    "training = import_xlsx(path = training_path,sheet_name='Sheet1')\n",
    "training['Date'] = pd.to_datetime(training['Date'],format='mixed').dt.date\n",
    "training['EID'] = training['EID'].astype(\"int64\")\n",
    "training=training.iloc[:,1:]\n",
    "\n",
    "print(training)\n",
    "\n"
   ]
  },
  {
   "cell_type": "code",
   "execution_count": null,
   "metadata": {},
   "outputs": [],
   "source": [
    "# IMPORT IOSHRINKAGE\n",
    "ioshrinkage = import_xlsx(path = ioshrinkage_path, sheet_name='Sheet1')"
   ]
  },
  {
   "cell_type": "code",
   "execution_count": null,
   "metadata": {},
   "outputs": [],
   "source": [
    "# IMPORT OT\n",
    "\n",
    "ot = import_xlsx(path = ot_path, sheet_name='Sheet2')"
   ]
  },
  {
   "cell_type": "code",
   "execution_count": null,
   "metadata": {},
   "outputs": [],
   "source": [
    "# IMPORT PSAT\n",
    "psat = import_csv(path = psat_path)\n",
    "psat['Date'] = pd.to_datetime(psat['Date'],format='mixed').dt.date"
   ]
  },
  {
   "cell_type": "code",
   "execution_count": null,
   "metadata": {},
   "outputs": [],
   "source": [
    "# IMPORT QUALITY\n",
    "quality_raw = import_xlsx(path = quality_path,sheet_name='Sheet1')\n",
    "quality_raw['eval_date'] = pd.to_datetime(quality_raw['eval_date'],format='mixed').dt.date\n",
    "quality=quality_raw.iloc[:,0:20]"
   ]
  },
  {
   "cell_type": "code",
   "execution_count": null,
   "metadata": {},
   "outputs": [],
   "source": [
    "# IMPORT RAMCO\n",
    "ramco = import_csv(path = ramco_path)\n",
    "ramco['Attribute'] = pd.to_datetime(ramco['Attribute'],format='mixed').dt.date\n",
    "ramco=ramco.rename(columns={'Attribute':'Date'})\n",
    "ramco['EID']=ramco['EID'].astype('Int64')"
   ]
  },
  {
   "cell_type": "code",
   "execution_count": null,
   "metadata": {},
   "outputs": [],
   "source": [
    "# IMPORT RAMCOOT\n",
    "ramcoot = import_xlsx(path = ramcoot_path,sheet_name='Sheet1')\n",
    "ramcoot['Attribute'] = pd.to_datetime(ramcoot['Attribute'],format='mixed').dt.date\n",
    "ramcoot=ramcoot.rename(columns={'Attribute':'Date'})\n"
   ]
  },
  {
   "cell_type": "code",
   "execution_count": null,
   "metadata": {},
   "outputs": [],
   "source": [
    "# IMPORT REQUIREMENT\n",
    "requirement = import_xlsx(path = requirement_path,sheet_name='Sheet1')\n",
    "requirement['Date'] = pd.to_datetime(requirement['Date'],format='mixed').dt.date"
   ]
  },
  {
   "cell_type": "code",
   "execution_count": null,
   "metadata": {},
   "outputs": [
    {
     "name": "stdout",
     "output_type": "stream",
     "text": [
      "          FullName LoginName            Interval  AgentAvailTime  \\\n",
      "0         Ta, Kyle       kta  8/1/23 10:00:00 AM        0.018021   \n",
      "1         Ta, Kyle       kta  8/1/23 10:30:00 AM        0.001319   \n",
      "2         Ta, Kyle       kta  8/1/23 11:00:00 AM        0.011227   \n",
      "3         Ta, Kyle       kta  8/1/23 11:30:00 AM        0.010752   \n",
      "4       Bach, Tina     tbach   8/1/23 6:30:00 AM        0.000000   \n",
      "...            ...       ...                 ...             ...   \n",
      "317424  Vu, Olivia       ovu  9/19/23 5:00:00 AM        0.000000   \n",
      "317425  Vu, Olivia       ovu  9/19/23 5:30:00 AM        0.000000   \n",
      "317426  Vu, Olivia       ovu  9/19/23 6:00:00 AM        0.000000   \n",
      "317427  Vu, Olivia       ovu  9/19/23 6:30:00 AM        0.000000   \n",
      "317428  Vu, Olivia       ovu  9/19/23 7:00:00 AM        0.000000   \n",
      "\n",
      "        AgentLoggedOnTime        Date  Employee_ID Shift_type Session Date  \n",
      "0                0.019769  2023-08-01    102003107         DS   2023-08-01  \n",
      "1                0.020833  2023-08-01    102003107         DS   2023-08-01  \n",
      "2                0.020833  2023-08-01    102003107         DS   2023-08-01  \n",
      "3                0.020833  2023-08-01    102003107         DS   2023-08-01  \n",
      "4                0.011505  2023-08-01    102063945         DS   2023-08-01  \n",
      "...                   ...         ...          ...        ...          ...  \n",
      "317424           0.020833  2023-09-19    102251172         NS   2023-09-18  \n",
      "317425           0.020729  2023-09-19    102251172         NS   2023-09-18  \n",
      "317426           0.016169  2023-09-19    102251172         NS   2023-09-18  \n",
      "317427           0.020833  2023-09-19    102251172         NS   2023-09-18  \n",
      "317428           0.000602  2023-09-19    102251172         NS   2023-09-18  \n",
      "\n",
      "[317429 rows x 9 columns]\n"
     ]
    }
   ],
   "source": [
    "print(cuic)"
   ]
  },
  {
   "cell_type": "code",
   "execution_count": null,
   "metadata": {},
   "outputs": [
    {
     "ename": "NameError",
     "evalue": "name 'schedule' is not defined",
     "output_type": "error",
     "traceback": [
      "\u001b[1;31m---------------------------------------------------------------------------\u001b[0m",
      "\u001b[1;31mNameError\u001b[0m                                 Traceback (most recent call last)",
      "Cell \u001b[1;32mIn[1], line 2\u001b[0m\n\u001b[0;32m      1\u001b[0m \u001b[39m#BOOKING ATTENDANCE\u001b[39;00m\n\u001b[1;32m----> 2\u001b[0m bkn_att \u001b[39m=\u001b[39m schedule\u001b[39m.\u001b[39mdrop(columns\u001b[39m=\u001b[39m[\u001b[39m'\u001b[39m\u001b[39mShift_type\u001b[39m\u001b[39m'\u001b[39m])\n\u001b[0;32m      3\u001b[0m bkn_att_ramco \u001b[39m=\u001b[39m ramco[[\u001b[39m'\u001b[39m\u001b[39mEID\u001b[39m\u001b[39m'\u001b[39m, \u001b[39m'\u001b[39m\u001b[39mValue\u001b[39m\u001b[39m'\u001b[39m]]\n\u001b[0;32m      4\u001b[0m bkn_att \u001b[39m=\u001b[39m pd\u001b[39m.\u001b[39mmerge(bkn_att, tl, on\u001b[39m=\u001b[39m\u001b[39m'\u001b[39m\u001b[39mEmp ID\u001b[39m\u001b[39m'\u001b[39m, how\u001b[39m=\u001b[39m\u001b[39m'\u001b[39m\u001b[39mleft\u001b[39m\u001b[39m'\u001b[39m)\n",
      "\u001b[1;31mNameError\u001b[0m: name 'schedule' is not defined"
     ]
    }
   ],
   "source": [
    "#BOOKING ATTENDANCE\n",
    "bkn_att = schedule.drop(columns=['Shift_type'])\n",
    "bkn_att_ramco = ramco[['EID', 'Value']]\n",
    "bkn_att = pd.merge(bkn_att, tl, on='Emp ID', how='left')\n",
    "bkn_att = pd.merge(bkn_att, bkn_att_ramco, left_on ='Emp ID', right_on='EID')\n",
    "bkn_att = bkn_att.drop(columns=['EID'])\n",
    "bkn_att = bkn_att.rename(columns={'Value': 'Ramco'})\n",
    "\n",
    "#bkn_att_cuic = pd.pivot_table(cuic, values =['AgentAvailTime', 'AgentLoggedOnTime'] , index=['Employee_ID', 'Session Date'], aggfunc=['sum'])\n",
    "bkn_att_cuic = cuic[['Employee_ID', 'Session Date', 'AgentAvailTime', 'AgentLoggedOnTime']].groupby(['Employee_ID', 'Session Date']).sum()\n",
    "print(bkn_att_cuic)\n",
    "bkn_att = pd.merge(bkn_att, bkn_att_cuic, left_on=['Emp ID', 'Date'], right_on=['Employee_ID', 'Session Date'], how='left')\n",
    "\n",
    "\n",
    "#bkn_att_cuic.to_csv(r'C:\\Users\\dinhhoang.nguyen\\OneDrive - Concentrix Corporation\\WFM-internal\\Calculators\\Joey Nguyen\\py\\cuic_test.csv')"
   ]
  }
 ],
 "metadata": {
  "kernelspec": {
   "display_name": "Python 3",
   "language": "python",
   "name": "python3"
  },
  "language_info": {
   "codemirror_mode": {
    "name": "ipython",
    "version": 3
   },
   "file_extension": ".py",
   "mimetype": "text/x-python",
   "name": "python",
   "nbconvert_exporter": "python",
   "pygments_lexer": "ipython3",
   "version": "3.11.4"
  },
  "orig_nbformat": 4
 },
 "nbformat": 4,
 "nbformat_minor": 2
}
