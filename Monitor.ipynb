{
 "cells": [
  {
   "cell_type": "code",
   "execution_count": 1,
   "metadata": {},
   "outputs": [],
   "source": [
    "#libraries\n",
    "import os\n",
    "import pandas as pd\n",
    "from datetime import datetime as dt\n",
    "from datetime import time as t\n",
    "from datetime import timedelta\n",
    "from dateutil import relativedelta\n",
    "import numpy as np\n",
    "from IPython.display import display"
   ]
  },
  {
   "cell_type": "code",
   "execution_count": 2,
   "metadata": {},
   "outputs": [],
   "source": [
    "# source\n",
    "user_credential = r'/Users/dinhhoang.nguyen.CONCENTRIX/OneDrive - Concentrix Corporation\\WFM-internal'"
   ]
  },
  {
   "cell_type": "code",
   "execution_count": 3,
   "metadata": {},
   "outputs": [],
   "source": [
    "# import master roster\n",
    "masterroster = pd.read_excel(os.path.join(r'C:', user_credential, r'Data\\User\\CNX Global Master Roster.xlsx'), sheet_name='Sheet1')"
   ]
  },
  {
   "cell_type": "code",
   "execution_count": 4,
   "metadata": {},
   "outputs": [],
   "source": [
    "tl = pd.read_excel(os.path.join(r'C:', user_credential, r'Data\\TL\\TL List.xlsx'), sheet_name='Sheet1')"
   ]
  },
  {
   "cell_type": "code",
   "execution_count": 5,
   "metadata": {},
   "outputs": [],
   "source": [
    "# Import extention\n",
    "extension = pd.read_excel(os.path.join(r'C:', user_credential, r'Data\\Extension\\Extension.xlsx'), sheet_name='Sheet1')"
   ]
  },
  {
   "cell_type": "code",
   "execution_count": 6,
   "metadata": {},
   "outputs": [],
   "source": [
    "# import the workplan\n",
    "workplan_wst = pd.read_json(os.path.join(r'C:', user_credential, r'DB\\filejson\\workplan_wst.json'))\n",
    "# add additional info of agents\n",
    "workplan_wst = pd.merge(workplan_wst, tl[['Emp ID', 'Supervisor (no need fill)']], left_on = 'EID', right_on = 'Emp ID', how='left')"
   ]
  },
  {
   "cell_type": "code",
   "execution_count": 7,
   "metadata": {},
   "outputs": [],
   "source": [
    "# timestamp = dt.now()\n",
    "timestamp = dt(2023, 11, 20, 13, 27, 28)"
   ]
  },
  {
   "cell_type": "code",
   "execution_count": 8,
   "metadata": {},
   "outputs": [],
   "source": [
    "# import the realtime view\n",
    "rt_view = pd.read_excel(os.path.join(r'C:', user_credential, r'Data\\Realtime view\\00_RTA_View-Agent Team Real Time.xlsx'), sheet_name='00_RTA_View-Agent Team Real Tim')\n",
    "rt_view = pd.merge(rt_view, extension[['Extension Number', 'Emp ID']], left_on='Extension', right_on='Extension Number', how='left')\n",
    "rt_view = rt_view.drop(columns={'Extension Number'}) #to remove abundant col\n",
    "rt_view = pd.merge(rt_view, masterroster[['CUIC Name', 'Employee_ID']], left_on='Agent', right_on='CUIC Name', how='left') #get agent's ID from master roster\n",
    "rt_view['Emp ID'] = rt_view.apply(lambda x: x['Employee_ID'] if pd.isnull(x['Extension']) or pd.isnull(x['Emp ID']) else x['Emp ID'], axis=1) #replace ID from extension (which we ref from Extension) with ID from master roster (which we ref from CUIC name))\n",
    "rt_view = rt_view.drop(columns={'Employee_ID'}) #remove this col since this no longer necessary\n",
    "rt_view['time_stamp'] = timestamp # get current time stamp to compare with the workplan"
   ]
  },
  {
   "cell_type": "code",
   "execution_count": 9,
   "metadata": {},
   "outputs": [],
   "source": [
    "# from workplan_wst, we extract current workplan of all agent on the floor\n",
    "current_wp = workplan_wst.loc[(pd.to_datetime(workplan_wst['act_starttime'], format='mixed')<=timestamp) & (pd.to_datetime(workplan_wst['act_endtime'], format='mixed')>=timestamp)]"
   ]
  },
  {
   "cell_type": "code",
   "execution_count": 10,
   "metadata": {},
   "outputs": [
    {
     "ename": "KeyError",
     "evalue": "\"['Ted Name', 'Full name', 'Emp ID'] not in index\"",
     "output_type": "error",
     "traceback": [
      "\u001b[1;31m---------------------------------------------------------------------------\u001b[0m",
      "\u001b[1;31mKeyError\u001b[0m                                  Traceback (most recent call last)",
      "Cell \u001b[1;32mIn[10], line 5\u001b[0m\n\u001b[0;32m      3\u001b[0m view_wp[\u001b[39m'\u001b[39m\u001b[39mactual_starttime\u001b[39m\u001b[39m'\u001b[39m] \u001b[39m=\u001b[39m view_wp\u001b[39m.\u001b[39mapply(\u001b[39mlambda\u001b[39;00m x: \u001b[39m'\u001b[39m\u001b[39m'\u001b[39m \u001b[39mif\u001b[39;00m pd\u001b[39m.\u001b[39misnull(x[\u001b[39m'\u001b[39m\u001b[39mDuration\u001b[39m\u001b[39m'\u001b[39m]) \u001b[39melse\u001b[39;00m timestamp \u001b[39m-\u001b[39m timedelta(days \u001b[39m=\u001b[39m x[\u001b[39m'\u001b[39m\u001b[39mDuration\u001b[39m\u001b[39m'\u001b[39m]), axis\u001b[39m=\u001b[39m\u001b[39m1\u001b[39m)\n\u001b[0;32m      4\u001b[0m \u001b[39m# rearrange the cols\u001b[39;00m\n\u001b[1;32m----> 5\u001b[0m view_wp \u001b[39m=\u001b[39m view_wp[[\u001b[39m'\u001b[39;49m\u001b[39mLOB\u001b[39;49m\u001b[39m'\u001b[39;49m, \u001b[39m'\u001b[39;49m\u001b[39mAgent ID\u001b[39;49m\u001b[39m'\u001b[39;49m, \u001b[39m'\u001b[39;49m\u001b[39mEID\u001b[39;49m\u001b[39m'\u001b[39;49m, \u001b[39m'\u001b[39;49m\u001b[39mTed Name\u001b[39;49m\u001b[39m'\u001b[39;49m, \u001b[39m'\u001b[39;49m\u001b[39mFull name\u001b[39;49m\u001b[39m'\u001b[39;49m, \u001b[39m'\u001b[39;49m\u001b[39mDate\u001b[39;49m\u001b[39m'\u001b[39;49m, \u001b[39m'\u001b[39;49m\u001b[39mdate_starttime\u001b[39;49m\u001b[39m'\u001b[39;49m, \u001b[39m'\u001b[39;49m\u001b[39mdate_endtime\u001b[39;49m\u001b[39m'\u001b[39;49m, \u001b[39m'\u001b[39;49m\u001b[39mSchedule Act\u001b[39;49m\u001b[39m'\u001b[39;49m,\u001b[39m'\u001b[39;49m\u001b[39mact_starttime\u001b[39;49m\u001b[39m'\u001b[39;49m, \u001b[39m'\u001b[39;49m\u001b[39mact_endtime\u001b[39;49m\u001b[39m'\u001b[39;49m, \u001b[39m'\u001b[39;49m\u001b[39mdate_duration\u001b[39;49m\u001b[39m'\u001b[39;49m, \u001b[39m'\u001b[39;49m\u001b[39mLength\u001b[39;49m\u001b[39m'\u001b[39;49m, \u001b[39m'\u001b[39;49m\u001b[39mtime_stamp\u001b[39;49m\u001b[39m'\u001b[39;49m, \u001b[39m'\u001b[39;49m\u001b[39mEmp ID\u001b[39;49m\u001b[39m'\u001b[39;49m, \u001b[39m'\u001b[39;49m\u001b[39mReason\u001b[39;49m\u001b[39m'\u001b[39;49m, \u001b[39m'\u001b[39;49m\u001b[39mDuration\u001b[39;49m\u001b[39m'\u001b[39;49m, \u001b[39m'\u001b[39;49m\u001b[39mState\u001b[39;49m\u001b[39m'\u001b[39;49m, \u001b[39m'\u001b[39;49m\u001b[39mactual_starttime\u001b[39;49m\u001b[39m'\u001b[39;49m]]\n\u001b[0;32m      6\u001b[0m \u001b[39m# The remarks\u001b[39;00m\n\u001b[0;32m      7\u001b[0m \u001b[39m# view_wp['login_status'] = view_wp.apply(lambda x: \"not logging as the workplan\" if pd.isnull(x['Emp ID']) else 'login', axis=1)\u001b[39;00m\n",
      "File \u001b[1;32mc:\\Python\\Winpython64-3.11.4.0\\WPy64-31140\\python-3.11.4.amd64\\Lib\\site-packages\\pandas\\core\\frame.py:3767\u001b[0m, in \u001b[0;36mDataFrame.__getitem__\u001b[1;34m(self, key)\u001b[0m\n\u001b[0;32m   3765\u001b[0m     \u001b[39mif\u001b[39;00m is_iterator(key):\n\u001b[0;32m   3766\u001b[0m         key \u001b[39m=\u001b[39m \u001b[39mlist\u001b[39m(key)\n\u001b[1;32m-> 3767\u001b[0m     indexer \u001b[39m=\u001b[39m \u001b[39mself\u001b[39;49m\u001b[39m.\u001b[39;49mcolumns\u001b[39m.\u001b[39;49m_get_indexer_strict(key, \u001b[39m\"\u001b[39;49m\u001b[39mcolumns\u001b[39;49m\u001b[39m\"\u001b[39;49m)[\u001b[39m1\u001b[39m]\n\u001b[0;32m   3769\u001b[0m \u001b[39m# take() does not accept boolean indexers\u001b[39;00m\n\u001b[0;32m   3770\u001b[0m \u001b[39mif\u001b[39;00m \u001b[39mgetattr\u001b[39m(indexer, \u001b[39m\"\u001b[39m\u001b[39mdtype\u001b[39m\u001b[39m\"\u001b[39m, \u001b[39mNone\u001b[39;00m) \u001b[39m==\u001b[39m \u001b[39mbool\u001b[39m:\n",
      "File \u001b[1;32mc:\\Python\\Winpython64-3.11.4.0\\WPy64-31140\\python-3.11.4.amd64\\Lib\\site-packages\\pandas\\core\\indexes\\base.py:5876\u001b[0m, in \u001b[0;36mIndex._get_indexer_strict\u001b[1;34m(self, key, axis_name)\u001b[0m\n\u001b[0;32m   5873\u001b[0m \u001b[39melse\u001b[39;00m:\n\u001b[0;32m   5874\u001b[0m     keyarr, indexer, new_indexer \u001b[39m=\u001b[39m \u001b[39mself\u001b[39m\u001b[39m.\u001b[39m_reindex_non_unique(keyarr)\n\u001b[1;32m-> 5876\u001b[0m \u001b[39mself\u001b[39;49m\u001b[39m.\u001b[39;49m_raise_if_missing(keyarr, indexer, axis_name)\n\u001b[0;32m   5878\u001b[0m keyarr \u001b[39m=\u001b[39m \u001b[39mself\u001b[39m\u001b[39m.\u001b[39mtake(indexer)\n\u001b[0;32m   5879\u001b[0m \u001b[39mif\u001b[39;00m \u001b[39misinstance\u001b[39m(key, Index):\n\u001b[0;32m   5880\u001b[0m     \u001b[39m# GH 42790 - Preserve name from an Index\u001b[39;00m\n",
      "File \u001b[1;32mc:\\Python\\Winpython64-3.11.4.0\\WPy64-31140\\python-3.11.4.amd64\\Lib\\site-packages\\pandas\\core\\indexes\\base.py:5938\u001b[0m, in \u001b[0;36mIndex._raise_if_missing\u001b[1;34m(self, key, indexer, axis_name)\u001b[0m\n\u001b[0;32m   5935\u001b[0m     \u001b[39mraise\u001b[39;00m \u001b[39mKeyError\u001b[39;00m(\u001b[39mf\u001b[39m\u001b[39m\"\u001b[39m\u001b[39mNone of [\u001b[39m\u001b[39m{\u001b[39;00mkey\u001b[39m}\u001b[39;00m\u001b[39m] are in the [\u001b[39m\u001b[39m{\u001b[39;00maxis_name\u001b[39m}\u001b[39;00m\u001b[39m]\u001b[39m\u001b[39m\"\u001b[39m)\n\u001b[0;32m   5937\u001b[0m not_found \u001b[39m=\u001b[39m \u001b[39mlist\u001b[39m(ensure_index(key)[missing_mask\u001b[39m.\u001b[39mnonzero()[\u001b[39m0\u001b[39m]]\u001b[39m.\u001b[39munique())\n\u001b[1;32m-> 5938\u001b[0m \u001b[39mraise\u001b[39;00m \u001b[39mKeyError\u001b[39;00m(\u001b[39mf\u001b[39m\u001b[39m\"\u001b[39m\u001b[39m{\u001b[39;00mnot_found\u001b[39m}\u001b[39;00m\u001b[39m not in index\u001b[39m\u001b[39m\"\u001b[39m)\n",
      "\u001b[1;31mKeyError\u001b[0m: \"['Ted Name', 'Full name', 'Emp ID'] not in index\""
     ]
    }
   ],
   "source": [
    "# Create a view where we can check if agent are following the workplan\n",
    "view_wp = pd.merge(current_wp, rt_view[['Emp ID', 'Reason', 'Duration', 'State', 'time_stamp']], left_on = 'EID', right_on = 'Emp ID', how='left')\n",
    "view_wp['actual_starttime'] = view_wp.apply(lambda x: '' if pd.isnull(x['Duration']) else timestamp - timedelta(days = x['Duration']), axis=1)\n",
    "# rearrange the cols\n",
    "view_wp = view_wp[['LOB', 'Agent ID', 'EID', 'Ted Name', 'Full name', 'Date', 'date_starttime', 'date_endtime', 'Schedule Act','act_starttime', 'act_endtime', 'date_duration', 'Length', 'time_stamp', 'Emp ID', 'Reason', 'Duration', 'State', 'actual_starttime']]\n",
    "# The remarks\n",
    "# view_wp['login_status'] = view_wp.apply(lambda x: \"not logging as the workplan\" if pd.isnull(x['Emp ID']) else 'login', axis=1)"
   ]
  },
  {
   "cell_type": "code",
   "execution_count": null,
   "metadata": {},
   "outputs": [],
   "source": [
    "timestamp = timestamp.strftime(\"%Y%m%d-%H%M%S\")\n",
    "view_wp.to_csv(os.path.join(r'C:', user_credential, r'Data\\realtime_capture', f'capture_{timestamp}.csv'), index=False)"
   ]
  }
 ],
 "metadata": {
  "kernelspec": {
   "display_name": "Python 3",
   "language": "python",
   "name": "python3"
  },
  "language_info": {
   "codemirror_mode": {
    "name": "ipython",
    "version": 3
   },
   "file_extension": ".py",
   "mimetype": "text/x-python",
   "name": "python",
   "nbconvert_exporter": "python",
   "pygments_lexer": "ipython3",
   "version": "3.11.4"
  },
  "orig_nbformat": 4
 },
 "nbformat": 4,
 "nbformat_minor": 2
}
