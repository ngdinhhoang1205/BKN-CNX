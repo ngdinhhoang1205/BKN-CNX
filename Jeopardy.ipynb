{
 "cells": [
  {
   "cell_type": "code",
   "execution_count": 1,
   "metadata": {},
   "outputs": [],
   "source": [
    "# LIBRARIES\n",
    "#libraries\n",
    "import os\n",
    "import pandas as pd\n",
    "from datetime import datetime as dt\n",
    "from datetime import time as t\n",
    "from datetime import timedelta\n",
    "from pandas.tseries.offsets import MonthEnd\n",
    "from IPython.display import display\n",
    "import json\n",
    "import numpy as np\n",
    "import re\n",
    "from openpyxl import load_workbook\n",
    "import xlsxwriter\n",
    "import requests\n",
    "from requests.auth import HTTPBasicAuth"
   ]
  },
  {
   "cell_type": "code",
   "execution_count": 2,
   "metadata": {},
   "outputs": [],
   "source": [
    "# source\n",
    "user_credential = r'/Users/dinhhoang.nguyen.CONCENTRIX/OneDrive - Concentrix Corporation\\WFM-internal'\n",
    "\n",
    "time_reset = dt(year=2023, month=8, day=1)\n",
    "update_less = False\n",
    "\n",
    "# IMPORT MASTER ROSTER\n",
    "masterroster = pd.read_json(os.path.join(r'C:', user_credential, r'DB\\filejson\\masterroster.json'))\n",
    "masterroster['Employee_ID'] = masterroster['Employee_ID'].astype(\"Int64\")\n",
    "\n",
    "# IMPORT EPS\n",
    "if update_less is True:\n",
    "    eps = pd.read_json(os.path.join(r'C:', user_credential, r'DB\\filejson\\eps.json'))\n",
    "else:\n",
    "    eps = pd.read_json(os.path.join(r'C:', user_credential, r'DB\\filejson\\eps_full.json'))\n",
    "\n",
    "# IMPORT ATTENDANCE\n",
    "if update_less is True:\n",
    "    atd = pd.read_json(os.path.join(r'C:', user_credential, r'DB\\filejson\\booking_attendance.json'))\n",
    "else:\n",
    "    atd = pd.read_json(os.path.join(r'C:', user_credential, r'DB\\filejson\\booking_attendance_full.json'))\n",
    "\n",
    "# IMPORT WORKPLAN\n",
    "workplan = pd.read_json(os.path.join(r'C:', user_credential, r'DB\\filejson\\workplan_merge_iex.json'))\n",
    "\n",
    "# IMPORT REQUIREMENT\n",
    "requirement = pd.read_json(os.path.join(r'C:', user_credential, r'DB\\filejson\\requirement.json'))\n",
    "\n",
    "# IMPORT PROJECTED SHRINKAGE\n",
    "shrinkage = pd.read_json(os.path.join(r'C:', user_credential, r'DB\\filejson\\ioshrinkage.json'))\n"
   ]
  },
  {
   "cell_type": "code",
   "execution_count": 3,
   "metadata": {},
   "outputs": [
    {
     "name": "stderr",
     "output_type": "stream",
     "text": [
      "C:\\Users\\dinhhoang.nguyen.CONCENTRIX\\AppData\\Local\\Temp\\VSCodePortable-x64Temp\\ipykernel_14700\\2833043742.py:4: SettingWithCopyWarning: \n",
      "A value is trying to be set on a copy of a slice from a DataFrame.\n",
      "Try using .loc[row_indexer,col_indexer] = value instead\n",
      "\n",
      "See the caveats in the documentation: https://pandas.pydata.org/pandas-docs/stable/user_guide/indexing.html#returning-a-view-versus-a-copy\n",
      "  main_frame['Week'] = pd.to_datetime(main_frame['Date'], format='mixed').dt.strftime('%Y%W')\n",
      "C:\\Users\\dinhhoang.nguyen.CONCENTRIX\\AppData\\Local\\Temp\\VSCodePortable-x64Temp\\ipykernel_14700\\2833043742.py:5: SettingWithCopyWarning: \n",
      "A value is trying to be set on a copy of a slice from a DataFrame.\n",
      "Try using .loc[row_indexer,col_indexer] = value instead\n",
      "\n",
      "See the caveats in the documentation: https://pandas.pydata.org/pandas-docs/stable/user_guide/indexing.html#returning-a-view-versus-a-copy\n",
      "  main_frame['Week'] = main_frame['Week'].astype('int64')\n"
     ]
    }
   ],
   "source": [
    "# main_frame ref from ATD\n",
    "main_frame = atd[['Emp ID', 'Date', 'Shift', 'Ramco', 'Supervisor','LOB', 'CUIC Actual hrs', 'Scheduled hrs', 'Total scheduled', 'Attendance', 'OT']]\n",
    "# Add Dimension to main_frame\n",
    "main_frame['Week'] = pd.to_datetime(main_frame['Date'], format='mixed').dt.strftime('%Y%W')\n",
    "main_frame['Week'] = main_frame['Week'].astype('int64')"
   ]
  },
  {
   "cell_type": "code",
   "execution_count": 4,
   "metadata": {},
   "outputs": [
    {
     "name": "stderr",
     "output_type": "stream",
     "text": [
      "C:\\Users\\dinhhoang.nguyen.CONCENTRIX\\AppData\\Local\\Temp\\VSCodePortable-x64Temp\\ipykernel_14700\\2738196075.py:8: SettingWithCopyWarning: \n",
      "A value is trying to be set on a copy of a slice from a DataFrame.\n",
      "Try using .loc[row_indexer,col_indexer] = value instead\n",
      "\n",
      "See the caveats in the documentation: https://pandas.pydata.org/pandas-docs/stable/user_guide/indexing.html#returning-a-view-versus-a-copy\n",
      "  jeo_workplan[i] = jeo_workplan.apply(lambda x: x['Length']*24 if x['Scheduled Activity'] == i else 0, axis=1)\n",
      "C:\\Users\\dinhhoang.nguyen.CONCENTRIX\\AppData\\Local\\Temp\\VSCodePortable-x64Temp\\ipykernel_14700\\2738196075.py:8: SettingWithCopyWarning: \n",
      "A value is trying to be set on a copy of a slice from a DataFrame.\n",
      "Try using .loc[row_indexer,col_indexer] = value instead\n",
      "\n",
      "See the caveats in the documentation: https://pandas.pydata.org/pandas-docs/stable/user_guide/indexing.html#returning-a-view-versus-a-copy\n",
      "  jeo_workplan[i] = jeo_workplan.apply(lambda x: x['Length']*24 if x['Scheduled Activity'] == i else 0, axis=1)\n",
      "C:\\Users\\dinhhoang.nguyen.CONCENTRIX\\AppData\\Local\\Temp\\VSCodePortable-x64Temp\\ipykernel_14700\\2738196075.py:8: SettingWithCopyWarning: \n",
      "A value is trying to be set on a copy of a slice from a DataFrame.\n",
      "Try using .loc[row_indexer,col_indexer] = value instead\n",
      "\n",
      "See the caveats in the documentation: https://pandas.pydata.org/pandas-docs/stable/user_guide/indexing.html#returning-a-view-versus-a-copy\n",
      "  jeo_workplan[i] = jeo_workplan.apply(lambda x: x['Length']*24 if x['Scheduled Activity'] == i else 0, axis=1)\n"
     ]
    }
   ],
   "source": [
    "# Process workplan\n",
    "## Add in IEX Mapping\n",
    "jeo_workplan = workplan[['EID', 'Date', 'Scheduled Activity', 'Length']]\n",
    "\n",
    "act_list = ['Break Offline', 'Coaching 1:1', 'Team Meeting', 'Email 1', 'Break', 'Training Offline', 'Lunch', 'Open Time']\n",
    "\n",
    "for i in act_list:\n",
    "    jeo_workplan[i] = jeo_workplan.apply(lambda x: x['Length']*24 if x['Scheduled Activity'] == i else 0, axis=1)\n",
    "\n",
    "jeo_workplan['Others_wp'] = jeo_workplan.apply(lambda x: x['Length']*24 if x['Scheduled Activity'] not in act_list else 0, axis=1)\n",
    "\n",
    "jeo_workplan = jeo_workplan.drop(columns={'Length', 'Scheduled Activity'}) # type: ignore\n",
    "\n",
    "act_list.append('Others_wp')\n",
    "jeo_workplan = jeo_workplan.groupby(['EID', 'Date'], as_index=False)[act_list].sum()"
   ]
  },
  {
   "cell_type": "code",
   "execution_count": 5,
   "metadata": {},
   "outputs": [],
   "source": [
    "# Add workplan to main_frame\n",
    "main_frame = pd.merge(main_frame, jeo_workplan, left_on = ['Emp ID', 'Date'], right_on=['EID', 'Date'], how='left')\n",
    "main_frame = main_frame.drop(columns={'EID'})\n",
    "main_frame[act_list] = main_frame[act_list].fillna(0)\n",
    "main_frame = main_frame.rename(columns={'Break Offline': 'Break Offline_wp', 'Coaching 1:1': 'Coaching 1:1_wp', 'Team Meeting': 'Team Meeting_wp', 'Email 1': 'Email 1_wp', 'Break': 'Break_wp', 'Training Offline': 'Training Offline_wp', 'Lunch': 'Lunch_wp', 'Open Time': 'Open Time_wp'})"
   ]
  },
  {
   "cell_type": "code",
   "execution_count": 6,
   "metadata": {},
   "outputs": [],
   "source": [
    "# Get requirement\n",
    "jeo_requirement = requirement[['LOB', 'Date', 'Daily Requirement', 'Prod Requirement']]\n",
    "jeo_requirement = jeo_requirement.rename(columns={'Daily Requirement': 'Delivery Requirement', 'Prod Requirement': 'Productive Requirement'})"
   ]
  },
  {
   "cell_type": "code",
   "execution_count": 7,
   "metadata": {},
   "outputs": [],
   "source": [
    "# Add requirement into main_frame\n",
    "main_frame = pd.merge(main_frame, jeo_requirement, on=['LOB', 'Date'], how='left')\n",
    "main_frame[['Delivery Requirement', 'Productive Requirement']] = main_frame[['Delivery Requirement', 'Productive Requirement']].fillna(0)"
   ]
  },
  {
   "cell_type": "code",
   "execution_count": 8,
   "metadata": {},
   "outputs": [],
   "source": [
    "# EPS processing\n",
    "jeo_eps = eps\n",
    "# jeo_eps['Session Login'] = pd.to_datetime(jeo_eps['Session Login'], format='mixed')\n",
    "# jeo_eps['Session Login'] = jeo_eps['Session Login'] - pd.Timedelta(hours=7)\n",
    "# jeo_eps['Session Login'] = jeo_eps['Session Login'].dt.tz_localize('UTC', ambiguous=True).dt.tz_convert('Europe/Berlin')\n",
    "jeo_eps['Session Login'] = pd.to_datetime(jeo_eps['Session Login'], format='mixed').dt.date\n",
    "bpe_code = ['Picklist - off Phone', 'Ready or Talking', 'Lunch', 'Break', 'Meeting', 'Not Working Yet', 'Training', 'RONA']\n",
    "for i in bpe_code:\n",
    "    jeo_eps[i] = jeo_eps.apply(lambda x: x['Total Time']/3600 if x['BPE Code'] == i else 0, axis=1)\n",
    "jeo_eps['Others_eps'] = jeo_eps.apply(lambda x: x['Total Time']/3600 if x['BPE Code'] not in bpe_code else 0, axis=1)\n",
    "bpe_code.append('Others_eps')\n",
    "jeo_eps = jeo_eps.groupby(['EID', 'Session Login'], as_index=False)[bpe_code].sum()"
   ]
  },
  {
   "cell_type": "code",
   "execution_count": 9,
   "metadata": {},
   "outputs": [],
   "source": [
    "# Add EPS to mainframe\n",
    "main_frame['Date'] = pd.to_datetime(main_frame['Date'], format='mixed').dt.date\n",
    "main_frame = pd.merge(main_frame, jeo_eps, left_on=['Emp ID', 'Date'], right_on=['EID', 'Session Login'], how='left')\n",
    "main_frame = main_frame.drop(columns={'EID', 'Session Login'})\n",
    "main_frame = main_frame.rename(columns={'Picklist - off Phone': 'Picklist - off Phone_eps', 'Ready or Talking': 'Ready or Talking_eps', 'Lunch': 'Lunch_eps', 'Break': 'Break_eps', 'Meeting': 'Meeting_eps', 'Not Working Yet': 'Not Working Yet_eps', 'Training': 'Training_eps', 'RONA': 'RONA_eps'})"
   ]
  },
  {
   "cell_type": "code",
   "execution_count": 10,
   "metadata": {},
   "outputs": [],
   "source": [
    "# Add shrinkage\n",
    "main_frame = pd.merge(main_frame, shrinkage, on = ['LOB', 'Week'], how='left')\n",
    "main_frame = main_frame.drop(columns={'filename'})"
   ]
  },
  {
   "cell_type": "code",
   "execution_count": 11,
   "metadata": {},
   "outputs": [],
   "source": [
    "# Export to CSV\n",
    "# main_frame.to_json((os.path.join(r'C:', user_credential, r'DB\\filejson\\jeopardy.json')), orient='records')\n",
    "main_frame.to_csv(r'C:\\Users\\dinhhoang.nguyen.CONCENTRIX\\Concentrix Corporation\\Tung Quan Le - BKN\\Jeopady\\[BcomDB] Jeopardy.csv', index=False)\n",
    "main_frame.to_csv((os.path.join(r'C:', user_credential, r'DB\\filejson\\[BcomDB] Jeopardy.csv')), index=False)"
   ]
  }
 ],
 "metadata": {
  "kernelspec": {
   "display_name": "Python 3",
   "language": "python",
   "name": "python3"
  },
  "language_info": {
   "codemirror_mode": {
    "name": "ipython",
    "version": 3
   },
   "file_extension": ".py",
   "mimetype": "text/x-python",
   "name": "python",
   "nbconvert_exporter": "python",
   "pygments_lexer": "ipython3",
   "version": "3.11.4"
  },
  "orig_nbformat": 4
 },
 "nbformat": 4,
 "nbformat_minor": 2
}
