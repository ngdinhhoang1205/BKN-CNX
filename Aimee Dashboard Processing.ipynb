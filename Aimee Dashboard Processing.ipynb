{
 "cells": [
  {
   "cell_type": "code",
   "execution_count": 11,
   "metadata": {},
   "outputs": [],
   "source": [
    "#libraries\n",
    "import os\n",
    "import pandas as pd\n",
    "from datetime import datetime as dt\n",
    "from datetime import time as t\n",
    "from dateutil import relativedelta\n",
    "import numpy as np\n",
    "from IPython.display import display"
   ]
  },
  {
   "cell_type": "code",
   "execution_count": 12,
   "metadata": {},
   "outputs": [],
   "source": [
    "user_credential = r'\\Users\\dinhhoang.nguyen.CONCENTRIX\\OneDrive - Concentrix Corporation\\WFM-internal'\n",
    "kpi = pd.read_json(os.path.join(r'C:', user_credential, r'DB\\filejson\\kpi.json'))\n",
    "kpi['Date'] = kpi['Date'].dt.date\n",
    "\n",
    "time_update = dt(year=2023, month=1, day=1)"
   ]
  },
  {
   "cell_type": "code",
   "execution_count": 13,
   "metadata": {},
   "outputs": [],
   "source": [
    "# Get prod target\n",
    "requirement = pd.read_json(os.path.join(r'C:', user_credential, r'DB\\filejson\\requirement.json'))[['LOB', 'Date', 'Daily Requirement']]\n",
    "requirement['Date'] = requirement['Date'].dt.date\n",
    "requirement = requirement.rename(columns={'Daily Requirement': 'Productive Target'})\n",
    "# add prod target to kpi\n",
    "kpi = pd.merge(kpi, requirement, on=['LOB', 'Date'], how='left')\n",
    "kpi['Productive Target'] = kpi['Productive Target'].fillna(0)"
   ]
  },
  {
   "cell_type": "code",
   "execution_count": 14,
   "metadata": {},
   "outputs": [],
   "source": [
    "# Here we calculate IO\n",
    "daily_tracking = pd.read_json(os.path.join(r'C:', user_credential, r'DB\\filejson\\dailytracking_full.json'))[['Session Date', 'EID', 'Break Time', 'Other codes', 'Staffed Hours', 'Delivery hours']]\n",
    "daily_tracking['Session Date'] = pd.to_datetime(daily_tracking['Session Date'], format='mixed').dt.date\n",
    "# Merge kpi with daily tracking\n",
    "kpi = pd.merge(kpi, daily_tracking, left_on=['Date', 'Emp ID'], right_on=['Session Date', 'EID'], how='left')\n",
    "# Drop 'Session Date', 'EID'\n",
    "kpi = kpi.drop(columns={'Session Date', 'EID'})\n",
    "\n",
    "kpi[['Break Time', 'Other codes', 'Staffed Hours', 'Delivery hours']] = kpi[['Break Time', 'Other codes', 'Staffed Hours', 'Delivery hours']]*3600\n",
    "kpi[['Break Time', 'Other codes', 'Staffed Hours', 'Delivery hours']] = kpi[['Break Time', 'Other codes', 'Staffed Hours', 'Delivery hours']].fillna('0')\n",
    "\n",
    "# # Convert Break Time to seconds\n",
    "# kpi[['hrs', 'mins', 'secs']] =  kpi['Break Time'].str.split(':', expand=True)\n",
    "# kpi['Break Time'] = kpi['hrs'].astype('int64')*3600 + kpi['mins'].astype('int64')*60 + kpi['secs'].astype('int64')\n",
    "# # Convert Other codes to seconds\n",
    "# kpi[['hrs', 'mins', 'secs']] =  kpi['Other codes'].str.split(':', expand=True)\n",
    "# kpi['Other codes'] = kpi['hrs'].astype('int64')*3600 + kpi['mins'].astype('int64')*60 + kpi['secs'].astype('int64')\n",
    "# # Convert Staffed Hours to seconds\n",
    "# kpi[['hrs', 'mins', 'secs']] =  kpi['Staffed Hours'].str.split(':', expand=True)\n",
    "# kpi['Staffed Hours'] = kpi['hrs'].astype('int64')*3600 + kpi['mins'].astype('int64')*60 + kpi['secs'].astype('int64')\n",
    "# # Convert Delivery hours to seconds\n",
    "# kpi[['hrs', 'mins', 'secs']] =  kpi['Delivery hours'].str.split(':', expand=True)\n",
    "# kpi['Delivery hours'] = kpi['hrs'].astype('int64')*3600 + kpi['mins'].astype('int64')*60 + kpi['secs'].astype('int64')\n",
    "\n",
    "# kpi = kpi.drop(columns={'hrs', 'mins', 'secs'})"
   ]
  },
  {
   "cell_type": "code",
   "execution_count": 15,
   "metadata": {},
   "outputs": [
    {
     "ename": "",
     "evalue": "",
     "output_type": "error",
     "traceback": [
      "\u001b[1;31mThe Kernel crashed while executing code in the the current cell or a previous cell. Please review the code in the cell(s) to identify a possible cause of the failure. Click <a href='https://aka.ms/vscodeJupyterKernelCrash'>here</a> for more info. View Jupyter <a href='command:jupyter.viewOutput'>log</a> for further details."
     ]
    }
   ],
   "source": [
    "# Export to csv\n",
    "kpi.loc[(pd.to_datetime(kpi['Date'], format='mixed')>time_update)].to_csv(os.path.join(r'C:', user_credential, r'DB\\filecsv\\aidashboard.csv'), index=False)"
   ]
  }
 ],
 "metadata": {
  "kernelspec": {
   "display_name": "Python 3",
   "language": "python",
   "name": "python3"
  },
  "language_info": {
   "codemirror_mode": {
    "name": "ipython",
    "version": 3
   },
   "file_extension": ".py",
   "mimetype": "text/x-python",
   "name": "python",
   "nbconvert_exporter": "python",
   "pygments_lexer": "ipython3",
   "version": "3.11.4"
  },
  "orig_nbformat": 4
 },
 "nbformat": 4,
 "nbformat_minor": 2
}
