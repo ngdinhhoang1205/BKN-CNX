{
 "cells": [
  {
   "cell_type": "code",
   "execution_count": 4,
   "metadata": {},
   "outputs": [],
   "source": [
    "#libraries\n",
    "import os\n",
    "import pandas as pd\n",
    "from datetime import datetime as dt\n",
    "from datetime import time as t\n",
    "import numpy as np\n",
    "from IPython.display import display"
   ]
  },
  {
   "cell_type": "code",
   "execution_count": 5,
   "metadata": {},
   "outputs": [],
   "source": [
    "## PLEASE INPUT YOUR OWN CREDENTIAL BELOW\n",
    "user_credential = r'/Users/dinhhoang.nguyen.CONCENTRIX/OneDrive - Concentrix Corporation\\WFM-internal'"
   ]
  },
  {
   "cell_type": "code",
   "execution_count": 6,
   "metadata": {},
   "outputs": [],
   "source": [
    "# IMPORT MASTER ROSTER\n",
    "masterroster = pd.read_json(os.path.join(r'C:', user_credential, r'DB\\filejson\\masterroster.json'))\n",
    "masterroster['Employee_ID'] = masterroster['Employee_ID'].astype(\"Int64\")"
   ]
  },
  {
   "cell_type": "code",
   "execution_count": 7,
   "metadata": {},
   "outputs": [],
   "source": [
    "# IMPORT EPS\n",
    "eps = pd.read_json(os.path.join(r'C:', user_credential, r'DB\\filejson\\eps.json'))\n"
   ]
  },
  {
   "cell_type": "code",
   "execution_count": 8,
   "metadata": {},
   "outputs": [],
   "source": [
    "#IMPORT CPI\n",
    "cpi = pd.read_json(os.path.join(r'C:', user_credential, r'DB\\filejson\\cpi.json'))"
   ]
  },
  {
   "cell_type": "code",
   "execution_count": 9,
   "metadata": {},
   "outputs": [],
   "source": [
    "#IMPORT AHT\n",
    "aht = pd.read_json(os.path.join(r'C:', user_credential, r'DB\\filejson\\aht.json'))"
   ]
  },
  {
   "cell_type": "code",
   "execution_count": 10,
   "metadata": {},
   "outputs": [],
   "source": [
    "# IMPORT SCHEDULE\n",
    "schedule = pd.read_json(os.path.join(r'C:', user_credential, r'DB\\filejson\\schedule.json'))"
   ]
  },
  {
   "cell_type": "code",
   "execution_count": 11,
   "metadata": {},
   "outputs": [],
   "source": [
    "# IMPORT CUIC\n",
    "cuic = pd.read_json(os.path.join(r'C:', user_credential, r'DB\\filejson\\cuic.json'))"
   ]
  },
  {
   "cell_type": "code",
   "execution_count": 12,
   "metadata": {},
   "outputs": [],
   "source": [
    "# IMPORT TL\n",
    "tl = pd.read_json(os.path.join(r'C:', user_credential, r'DB\\filejson\\tl.json'))"
   ]
  },
  {
   "cell_type": "code",
   "execution_count": 13,
   "metadata": {},
   "outputs": [],
   "source": [
    "# Frame\n",
    "aht_frame = schedule\n",
    "\n",
    "## add Week\n",
    "aht_frame['Date'] = pd.to_datetime(aht_frame['Date'], errors='coerce')\n",
    "aht_frame['Week'] = aht_frame['Date'].dt.strftime('%Y%W')\n",
    "aht_frame['Date'] = aht_frame['Date'].dt.date\n",
    "\n",
    "## add tenure\n",
    "aht_frame = pd.merge(aht_frame, masterroster[['Employee_ID', 'Booking Login ID', 'TED Name', 'CUIC Name', 'PST_Start_Date', 'Wave #', 'Role']], left_on='Emp ID', right_on='Employee_ID', how='left')\n",
    "aht_frame['PST_Start_Date'] = pd.to_datetime(aht_frame['PST_Start_Date'], format='mixed').dt.date\n",
    "def TN(x):\n",
    "    if x['Date'] - x['PST_Start_Date'] >= pd.Timedelta(days=90):\n",
    "        return \"TN\"\n",
    "    else:\n",
    "        return \"NH\"\n",
    "    \n",
    "aht_frame['Tenure'] = aht_frame.apply(TN, axis=1)\n",
    "aht_frame = aht_frame.drop(columns=['Employee_ID'])\n",
    "## add supervisor\n",
    "aht_frame = pd.merge(aht_frame, tl[['Emp ID', 'Supervisor']], on='Emp ID', how='left')"
   ]
  },
  {
   "cell_type": "code",
   "execution_count": 14,
   "metadata": {},
   "outputs": [],
   "source": [
    "## cpi processing\n",
    "aht_cpi = cpi\n",
    "\n",
    "## add phone cases\n",
    "aht_cpi['#phone'] = aht_cpi.apply(lambda x: x['Number of Records'] if x['Channel'] == 'phone' else 0, axis=1)\n",
    "aht_cpi['#non-phone'] = aht_cpi.apply(lambda x: x['Number of Records'] if x['Channel'] != 'phone' else 0, axis=1)\n",
    "\n",
    "aht_cpi = aht_cpi.groupby(['Employee_ID', 'Date'], as_index=False)[['#phone', '#non-phone']].sum()\n",
    "aht_cpi['total_cases'] = aht_cpi['#phone'] + aht_cpi['#non-phone']\n",
    "### add to main frame\n",
    "aht_cpi['Date'] = aht_cpi['Date'].dt.date\n",
    "aht_frame = pd.merge(aht_frame, aht_cpi, left_on=['Emp ID', 'Date'], right_on=['Employee_ID', 'Date'], how='left')\n",
    "aht_frame = aht_frame.drop(columns={'Employee_ID'})\n",
    "aht_frame[['#phone', '#non-phone', 'total_cases']] = aht_frame[['#phone', '#non-phone', 'total_cases']].fillna(0)\n",
    "\n"
   ]
  },
  {
   "cell_type": "code",
   "execution_count": 15,
   "metadata": {},
   "outputs": [
    {
     "name": "stderr",
     "output_type": "stream",
     "text": [
      "C:\\Users\\dinhhoang.nguyen.CONCENTRIX\\AppData\\Local\\Temp\\VSCodePortable-x64Temp\\ipykernel_2264\\87916195.py:18: SettingWithCopyWarning: \n",
      "A value is trying to be set on a copy of a slice from a DataFrame.\n",
      "Try using .loc[row_indexer,col_indexer] = value instead\n",
      "\n",
      "See the caveats in the documentation: https://pandas.pydata.org/pandas-docs/stable/user_guide/indexing.html#returning-a-view-versus-a-copy\n",
      "  aht_lob['Date'] = pd.to_datetime(aht_lob['Date'], format ='mixed')\n"
     ]
    }
   ],
   "source": [
    "## AHT\n",
    "aht_aht = aht.drop(columns=['Start Time', 'End Time', '\"Handling Time\"', 'First Email Id'])\n",
    "\n",
    "## add Eliminate Phone\n",
    "def eliminate_phone(x):\n",
    "    if x['Item Channel'] =='Phone' and x['Topic'] =='Unknown':\n",
    "        return \"Notphone\"\n",
    "    else:\n",
    "        return x['Item Channel']\n",
    "aht_aht['Eliminate Phone'] = aht_aht.apply(eliminate_phone, axis=1)\n",
    "\n",
    "aht_mr = masterroster[['Employee_ID', 'PST_Start_Date', 'CUIC Name', 'Full name', 'Role', 'TED Name', 'Wave #']]\n",
    "\n",
    "aht_aht = pd.merge(aht_aht, aht_mr, left_on='Staff', right_on='TED Name', how='left')\n",
    "\n",
    "aht_aht = pd.merge(aht_aht, tl, left_on ='Employee_ID_x', right_on = 'Emp ID', how='left')\n",
    "aht_lob = schedule[['Emp ID', 'Date', 'LOB']]\n",
    "aht_lob['Date'] = pd.to_datetime(aht_lob['Date'], format ='mixed')\n",
    "aht_aht = pd.merge(aht_aht, aht_lob, left_on = ['Employee_ID_x', 'Date'], right_on=['Emp ID', 'Date'], how='left')\n",
    "aht_aht = aht_aht.drop(columns=['Employee_ID_y', 'Emp ID_x', 'Emp ID_y'])\n",
    "aht_aht = aht_aht.rename(columns={'Employee_ID_x':'Employee_ID'})\n",
    "#Add talk time\n",
    "def talk_time(x):\n",
    "    try:\n",
    "        from_left = 11\n",
    "        to_right = str(x['Tooltip Phone Time']).find(' Wrap Time')\n",
    "        return int(x['Tooltip Phone Time'][from_left:to_right])\n",
    "    except:\n",
    "        return 0\n",
    "def wrap_time(x):\n",
    "    try:\n",
    "        from_left = int(str(x['Tooltip Phone Time']).find('Wrap Time'))+11\n",
    "        to_right = str(x['Tooltip Phone Time']).find(' Hold Time')\n",
    "        return int(x['Tooltip Phone Time'][from_left:to_right])\n",
    "    except:\n",
    "        return 0\n",
    "def hold_time(x):\n",
    "    try:\n",
    "        from_left = int(str(x['Tooltip Phone Time']).find('Hold Time'))+10\n",
    "        return int(x['Tooltip Phone Time'][from_left:])\n",
    "    except:\n",
    "        return 0    \n",
    "aht_aht['Talk Time'] = aht_aht.apply(talk_time, axis=1)\n",
    "aht_aht['Wrap Time'] = aht_aht.apply(wrap_time, axis=1)\n",
    "aht_aht['Hold Time'] = aht_aht.apply(hold_time, axis=1)\n",
    "\n",
    "def act_handling_time(x):\n",
    "    if x['Eliminate Phone'] =='Phone':\n",
    "        return x['Talk Time'] + x['Wrap Time'] + x['Hold Time']\n",
    "    else:\n",
    "        return x['Handling Time']\n",
    "\n",
    "# add realchannel\n",
    "def realchannel(x):\n",
    "    if x['Item Channel'] == 'Phone' and x['Topic'] == 'Unknown':\n",
    "        return \"Phone1\"\n",
    "    else:\n",
    "        return x['Item Channel']\n",
    "aht_aht['Real Channel'] = aht_aht.apply(realchannel, axis=1)\n",
    "\n",
    "# add total inbound\n",
    "def totalinbound(x):\n",
    "    if x['Item Channel'] in ['Email', 'Live Chat', 'Messaging', 'Unknown']:\n",
    "        return x['Handling Time']\n",
    "    else:\n",
    "        return x['Talk Time'] + x['Wrap Time'] + x['Hold Time']\n",
    "\n",
    "aht_aht['Total Inbound'] = aht_aht.apply(totalinbound, axis=1)\n",
    "\n",
    "#add Act handling time\n",
    "aht_aht['Act Handling Time'] = aht_aht.apply(act_handling_time, axis=1)\n",
    "#Date to_datetime\n",
    "aht_aht['Date'] = pd.to_datetime(aht_aht['Date'], format='mixed').dt.strftime('%Y-%m-%d')\n"
   ]
  },
  {
   "cell_type": "code",
   "execution_count": 16,
   "metadata": {},
   "outputs": [],
   "source": [
    "# time & count for AHT\n",
    "aht_aht['AHT Phone time'] = aht_aht.apply(lambda x: x['Act Handling Time'] if x['Eliminate Phone'] == 'Phone' else 0, axis=1)\n",
    "aht_aht['AHT Phone count'] = aht_aht.apply(lambda x: 1 if x['Eliminate Phone'] == 'Phone' else 0, axis=1)\n",
    "\n",
    "aht_aht['AHT Non-phone time'] = aht_aht.apply(lambda x: x['Act Handling Time'] if x['Eliminate Phone'] in ['Email', 'Unknown', 'Messaging', 'SNR', 'BH'] else 0, axis=1)\n",
    "aht_aht['AHT Non-phone count'] = aht_aht.apply(lambda x: 1 if x['Eliminate Phone'] in ['Email', 'Unknown', 'Messaging', 'SNR', 'BH'] else 0, axis=1)\n",
    "\n",
    "aht_aht['Overall AHT time'] = aht_aht.apply(lambda x: x['Act Handling Time'] if x['Eliminate Phone'] != 'Notphone' else 0, axis=1)\n",
    "aht_aht['Overall AHT count'] = aht_aht.apply(lambda x: 1 if x['Eliminate Phone'] != 'Notphone' else 0, axis=1)\n",
    "\n",
    "aht_aht['Hold (phone) time'] = aht_aht.apply(lambda x: x['Hold Time'] if x['Eliminate Phone'] == 'Phone' else 0, axis=1)\n",
    "aht_aht['Hold (phone) count'] = aht_aht.apply(lambda x: 1 if x['Eliminate Phone'] == 'Phone' else 0, axis=1)\n",
    "\n",
    "aht_aht['AACW (phone) time'] = aht_aht.apply(lambda x: x['Wrap Time'] if x['Eliminate Phone'] == 'Phone' else 0, axis=1)\n",
    "aht_aht['AACW (phone) count'] = aht_aht.apply(lambda x: 1 if x['Eliminate Phone'] == 'Phone' else 0, axis=1)\n",
    "\n",
    "aht_aht['Avg Talk Time time'] = aht_aht.apply(lambda x: x['Talk Time'] if x['Eliminate Phone'] == 'Phone' else 0, axis=1)\n",
    "aht_aht['Avg Talk Time count'] = aht_aht.apply(lambda x: 1 if x['Eliminate Phone'] == 'Phone' else 0, axis=1)\n",
    "\n",
    "aht_aht['Handled call time'] = aht_aht.apply(lambda x: x['Total Inbound'] if x['Real Channel'] == 'Phone' else 0, axis=1)\n",
    "aht_aht['Handled call count'] = aht_aht.apply(lambda x: 1 if x['Real Channel'] == 'Phone' else 0, axis=1)\n",
    "\n",
    "aht_aht['Handled email time'] = aht_aht.apply(lambda x: x['Total Inbound'] if x['Real Channel'] in ['Email', 'Live Chat', 'Messaging'] else 0, axis=1)\n",
    "aht_aht['Handled email count'] = aht_aht.apply(lambda x: 1 if x['Real Channel'] in ['Email', 'Live Chat', 'Messaging'] else 0, axis=1)"
   ]
  },
  {
   "cell_type": "code",
   "execution_count": null,
   "metadata": {},
   "outputs": [],
   "source": [
    "# group by AHT\n",
    "aht_aht = aht_aht.groupby(['Date', 'Employee_ID'], as_index=False)[['AHT Phone time', 'AHT Phone count', 'AHT Non-phone time', 'AHT Non-phone count', 'Overall AHT time', 'Overall AHT count', 'Hold (phone) time', 'Hold (phone) count', 'AACW (phone) time', 'AACW (phone) count', 'Avg Talk Time time', 'Avg Talk Time count', 'Handled call time', 'Handled call count', 'Handled email time', 'Handled email count']].sum()"
   ]
  },
  {
   "cell_type": "code",
   "execution_count": null,
   "metadata": {},
   "outputs": [],
   "source": [
    "# add aht_aht to main frame\n",
    "aht_frame['Date'] = pd.to_datetime(aht_frame['Date'], format='mixed').dt.strftime('%Y-%m-%d')\n",
    "aht_frame = pd.merge(aht_frame, aht_aht, left_on =['Emp ID', 'Date'], right_on=['Employee_ID', 'Date'], how='left')\n",
    "aht_frame = aht_frame.drop(columns={'Employee_ID'})\n",
    "aht_frame['AHT Phone time'] = aht_frame['AHT Phone time'].fillna(0)\n",
    "aht_frame['AHT Phone count'] = aht_frame['AHT Phone count'].fillna(0)\n",
    "\n",
    "aht_frame['AHT Non-phone time'] = aht_frame['AHT Non-phone time'].fillna(0)\n",
    "aht_frame['AHT Non-phone count'] = aht_frame['AHT Non-phone count'].fillna(0)\n",
    "\n",
    "aht_frame['Overall AHT time'] = aht_frame['Overall AHT time'].fillna(0)\n",
    "aht_frame['Overall AHT count'] = aht_frame['Overall AHT count'].fillna(0)\n",
    "\n",
    "aht_frame['Hold (phone) time'] = aht_frame['Hold (phone) time'].fillna(0)\n",
    "aht_frame['Hold (phone) count'] = aht_frame['Hold (phone) count'].fillna(0)\n",
    "\n",
    "aht_frame['AACW (phone) time'] = aht_frame['AACW (phone) time'].fillna(0)\n",
    "aht_frame['AACW (phone) count'] = aht_frame['AACW (phone) count'].fillna(0)\n",
    "\n",
    "aht_frame['Avg Talk Time time'] = aht_frame['Avg Talk Time time'].fillna(0)\n",
    "aht_frame['Avg Talk Time count'] = aht_frame['Avg Talk Time count'].fillna(0)\n",
    "\n",
    "aht_frame['Handled call time'] = aht_frame['Handled call time'].fillna(0)\n",
    "aht_frame['Handled call count'] = aht_frame['Handled call count'].fillna(0)\n",
    "\n",
    "aht_frame['Handled email time'] = aht_frame['Handled email time'].fillna(0)\n",
    "aht_frame['Handled email count'] = aht_frame['Handled email count'].fillna(0)"
   ]
  },
  {
   "cell_type": "code",
   "execution_count": null,
   "metadata": {},
   "outputs": [],
   "source": [
    "# cuic\n",
    "aht_cuic = cuic\n",
    "aht_cuic = aht_cuic.groupby(['Employee_ID', 'Session Date'], as_index=False)[['AgentAvailTime']].sum()\n",
    "aht_cuic['AgentAvailTime']=aht_cuic['AgentAvailTime']*24\n",
    "aht_cuic['Session Date'] = pd.to_datetime(aht_cuic['Session Date'], format='mixed').dt.strftime('%Y-%m-%d')"
   ]
  },
  {
   "cell_type": "code",
   "execution_count": null,
   "metadata": {},
   "outputs": [],
   "source": [
    "# add cuic to main frame\n",
    "aht_frame = pd.merge(aht_frame, aht_cuic, left_on =['Emp ID', 'Date'], right_on=['Employee_ID', 'Session Date'], how='left')\n",
    "aht_frame = aht_frame.drop(columns={'Employee_ID', 'Session Date'})\n",
    "aht_frame['AgentAvailTime'] = aht_frame['AgentAvailTime'].fillna(0)"
   ]
  },
  {
   "cell_type": "code",
   "execution_count": null,
   "metadata": {},
   "outputs": [],
   "source": [
    "# eps\n",
    "aht_eps = eps\n",
    "# calculate time\n",
    "aht_eps['phone_time'] = aht_eps.apply(lambda x: x['Total Time'] if x['BPE Code'] == 'Ready or Talking' else 0, axis=1)/3600\n",
    "aht_eps['nonphone_time'] = aht_eps.apply(lambda x: x['Total Time'] if x['BPE Code'] == 'Picklist - off Phone' else 0, axis=1)/3600\n",
    "aht_eps['productive_time'] = aht_eps.apply(lambda x: x['Total Time'] if x['BPE Code'] in ['Picklist - off Phone', 'Ready or Talking'] else 0, axis=1)/3600\n",
    "\n",
    "## add session date\n",
    "aht_eps['Session login date'] = pd.to_datetime(aht_eps['Session login date'], format='mixed').dt.date\n",
    "aht_eps['Session login date-1'] = aht_eps['Session login date'] - pd.Timedelta(days=1)\n",
    "aht_eps = pd.merge(aht_eps, schedule[['Emp ID', 'Date', 'Shift_type']], left_on=['EID', 'Session login date-1'], right_on=['Emp ID', 'Date'], how='left')\n",
    "\n",
    "def session_date(x):\n",
    "    if x['Shift_type'] == 'NS' and x['Session login time'] <= t(12, 0, 0):\n",
    "        return x['Session login date-1']\n",
    "    else:\n",
    "        return x['Session login date']\n",
    "    \n",
    "aht_eps['Session login time'] = pd.to_datetime(aht_eps['Session login time'], format='mixed').dt.time\n",
    "aht_eps['Session date'] = aht_eps.apply(session_date, axis=1)\n",
    "\n",
    "aht_eps = aht_eps.groupby(['EID', 'Session date'], as_index=False)[['phone_time', 'nonphone_time', 'productive_time']].sum()\n",
    "aht_eps = aht_eps.rename(columns={'Session date': 'Date'})\n",
    "\n",
    "aht_eps['Date'] = pd.to_datetime(aht_eps['Date'], format = 'mixed').dt.strftime('%Y-%m-%d')"
   ]
  },
  {
   "cell_type": "code",
   "execution_count": null,
   "metadata": {},
   "outputs": [],
   "source": [
    "## add aht_eps to main frame\n",
    "aht_frame = pd.merge(aht_frame, aht_eps, left_on =['Emp ID', 'Date'], right_on=['EID', 'Date'], how='left')\n",
    "aht_frame = aht_frame.drop(columns={'EID'})\n",
    "aht_frame[['phone_time', 'nonphone_time', 'productive_time']] = aht_frame[['phone_time', 'nonphone_time', 'productive_time']].fillna(0)\n"
   ]
  },
  {
   "cell_type": "code",
   "execution_count": null,
   "metadata": {},
   "outputs": [],
   "source": [
    "aht_frame['Date'] = pd.to_datetime(aht_frame['Date'], format='mixed').dt.strftime('%Y-%m-%d')"
   ]
  },
  {
   "cell_type": "code",
   "execution_count": null,
   "metadata": {},
   "outputs": [],
   "source": [
    "# export to json\n",
    "aht_frame.to_json(os.path.join(r'C:', user_credential, r'DB\\filejson\\ahtrp.json'), orient='records')"
   ]
  }
 ],
 "metadata": {
  "kernelspec": {
   "display_name": "Python 3",
   "language": "python",
   "name": "python3"
  },
  "language_info": {
   "codemirror_mode": {
    "name": "ipython",
    "version": 3
   },
   "file_extension": ".py",
   "mimetype": "text/x-python",
   "name": "python",
   "nbconvert_exporter": "python",
   "pygments_lexer": "ipython3",
   "version": "3.11.4"
  },
  "orig_nbformat": 4
 },
 "nbformat": 4,
 "nbformat_minor": 2
}
