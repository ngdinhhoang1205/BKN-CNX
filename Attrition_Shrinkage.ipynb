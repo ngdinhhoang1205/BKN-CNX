{
 "cells": [
  {
   "cell_type": "code",
   "execution_count": 47,
   "metadata": {},
   "outputs": [],
   "source": [
    "#libraries\n",
    "import os\n",
    "import pandas as pd\n",
    "from datetime import datetime as dt\n",
    "from datetime import time as t\n",
    "from dateutil import relativedelta\n",
    "import numpy as np\n",
    "from IPython.display import display"
   ]
  },
  {
   "cell_type": "code",
   "execution_count": 48,
   "metadata": {},
   "outputs": [],
   "source": [
    "# source\n",
    "user_credential = r'/Users/dinhhoang.nguyen.CONCENTRIX/OneDrive - Concentrix Corporation\\WFM-internal'"
   ]
  },
  {
   "cell_type": "code",
   "execution_count": 49,
   "metadata": {},
   "outputs": [],
   "source": [
    "# Schedule\n",
    "schedule = pd.read_json(os.path.join(r'C:', user_credential, r'DB\\filejson\\schedule_full.json'))"
   ]
  },
  {
   "cell_type": "code",
   "execution_count": 50,
   "metadata": {},
   "outputs": [],
   "source": [
    "# IMPORT TL\n",
    "tl = pd.read_json(os.path.join(r'C:', user_credential, r'DB\\filejson\\tl.json'))"
   ]
  },
  {
   "cell_type": "code",
   "execution_count": 51,
   "metadata": {},
   "outputs": [],
   "source": [
    "# Add master roster\n",
    "# IMPORT MASTER ROSTER\n",
    "masterroster = pd.read_json(os.path.join(r'C:', user_credential, r'DB\\filejson\\masterroster.json'))\n",
    "masterroster['Employee_ID'] = masterroster['Employee_ID'].astype(\"Int64\")"
   ]
  },
  {
   "cell_type": "code",
   "execution_count": 52,
   "metadata": {},
   "outputs": [],
   "source": [
    "schedule = schedule[['Emp ID', 'Date', 'Shift', 'LOB']]\n",
    "# Define shift\n",
    "present_list = [\n",
    "'0400-1300', \n",
    "'0600-1500',\n",
    "'0700-1600',\n",
    "'0800-1700',\n",
    "'0900-1800',\n",
    "'1000-1900',\n",
    "'1100-2000',\n",
    "'1200-2100',\n",
    "'1300-2200',\n",
    "'1400-2300',\n",
    "'2000-0500',\n",
    "'2100-0600',\n",
    "'2200-0700'\n",
    "]\n",
    "\n",
    "pl_list = [\n",
    "    'AL',\n",
    "    'CO'\n",
    "]\n",
    "upl_list = [\n",
    "    'UPL'\n",
    "]\n",
    "schedule['Shift_definition'] = schedule.apply(lambda x: 'Present' if x['Shift'] in present_list else 'Planned leave' if x['Shift'] in pl_list else 'Unplanned leave' if x['Shift'] in upl_list else \"\", axis=1)"
   ]
  },
  {
   "cell_type": "code",
   "execution_count": 53,
   "metadata": {},
   "outputs": [],
   "source": [
    "# Attrition\n",
    "termination = pd.read_excel(os.path.join(r'C:', user_credential, r'Data/Workdayattrition/attrition.xlsx'), sheet_name='Termination Dump')\n",
    "termination = termination.loc[(termination['MSA'] == '5585 - Bookingcom - BOOKINGCOMVN')&(termination['JOB_ROLE'] == 'Agent')&(termination['CITY'] == 'Ho Chi Minh')][['EMPLOYEE_ID', 'LWD', 'Termination Reason']]"
   ]
  },
  {
   "cell_type": "code",
   "execution_count": 54,
   "metadata": {},
   "outputs": [],
   "source": [
    "resignation = pd.read_excel(os.path.join(r'C:', user_credential, r'Data/Workdayattrition/attrition.xlsx'), sheet_name='Resignation')\n",
    "resignation = resignation.loc[(resignation['Job Family']=='Contact Center')&(resignation['MSA Client']=='Bookingcom')&(resignation['Country']=='Vietnam')][['Employee ID', 'Proposed Termination Date', 'Resignation Primary Reason']]\n",
    "resignation = resignation.rename(columns={'Employee ID': 'EMPLOYEE_ID', 'Proposed Termination Date': 'LWD', 'Resignation Primary Reason': 'Resignation Reason'})\n"
   ]
  },
  {
   "cell_type": "code",
   "execution_count": 55,
   "metadata": {},
   "outputs": [],
   "source": [
    "# Attrition\n",
    "transfer = pd.read_excel(os.path.join(r'C:', user_credential, r'Data\\Transfer/transfer.xlsx'), sheet_name='Sheet1')\n",
    "transfer = transfer[['EID', 'LWD', 'Employee Status', 'Remarks']]"
   ]
  },
  {
   "cell_type": "code",
   "execution_count": 56,
   "metadata": {},
   "outputs": [],
   "source": [
    "agent_consolidate = pd.merge(termination, transfer, left_on = ['EMPLOYEE_ID', 'LWD'], right_on = ['EID', \"LWD\"], how='outer') # merge trmination and transfer\n",
    "# agent_consolidate['Employee_ID'] = agent_consolidate.apply(lambda x: x['EMPLOYEE_ID'] if pd.isnull(x['EID']) else x['EID'], axis=1)\n",
    "\n",
    "agent_consolidate = pd.merge(agent_consolidate, resignation, on = ['EMPLOYEE_ID', 'LWD'], how='outer')\n",
    "agent_consolidate['Employee_ID'] = agent_consolidate.apply(lambda x: x['EMPLOYEE_ID'] if pd.isnull(x['EID']) else x['EID'], axis=1)\n",
    "\n",
    "agent_consolidate['Termination Reason'] = agent_consolidate.apply(lambda x: x['Termination Reason'] if pd.notnull(x['Termination Reason']) else x['Remarks'] if pd.notnull(x['Remarks']) else x['Resignation Reason'], axis=1)\n",
    "agent_consolidate = agent_consolidate.drop(columns={'EID', 'EMPLOYEE_ID', 'Employee Status', 'Remarks', 'Resignation Reason'})"
   ]
  },
  {
   "cell_type": "code",
   "execution_count": 57,
   "metadata": {},
   "outputs": [],
   "source": [
    "schedule = pd.merge(schedule, agent_consolidate, left_on = ['Emp ID', 'Date'], right_on = ['Employee_ID', 'LWD'], how = 'outer')\n",
    "schedule['Employee_ID'] = schedule.apply(lambda x: x['Emp ID'] if pd.isnull(x['Employee_ID']) else x['Employee_ID'], axis=1)\n",
    "schedule['Date'] = schedule.apply(lambda x: x['Date'] if pd.isnull(x['LWD']) else x['LWD'], axis=1)\n",
    "\n",
    "schedule = schedule.drop(columns={'Emp ID', 'LWD'})"
   ]
  },
  {
   "cell_type": "code",
   "execution_count": 58,
   "metadata": {},
   "outputs": [],
   "source": [
    "# Add TL\n",
    "schedule = pd.merge(schedule, tl, left_on='Employee_ID', right_on = 'Emp ID', how='left')\n",
    "schedule = schedule.drop(columns={'Emp ID'})"
   ]
  },
  {
   "cell_type": "code",
   "execution_count": 59,
   "metadata": {},
   "outputs": [],
   "source": [
    "# schedule['Termination/Transfer'] = schedule.apply(lambda x: x['Termination Reason'] if pd.isnull(x['Employee Status']) else x['Employee Status'], axis=1)"
   ]
  },
  {
   "cell_type": "code",
   "execution_count": 60,
   "metadata": {},
   "outputs": [],
   "source": [
    "# schedule = schedule.drop(columns={'Termination Reason', 'Employee Status'})"
   ]
  },
  {
   "cell_type": "code",
   "execution_count": 61,
   "metadata": {},
   "outputs": [],
   "source": [
    "# schedule = schedule[['Employee_ID', 'Date', 'LOB', 'Supervisor','Shift', 'Shift_definition', 'Termination/Transfer', 'Remarks']]"
   ]
  },
  {
   "cell_type": "code",
   "execution_count": 62,
   "metadata": {},
   "outputs": [],
   "source": [
    "# Export\n",
    "schedule.to_csv(r'C:\\Users\\dinhhoang.nguyen.CONCENTRIX\\Concentrix Corporation\\Tung Quan Le - BKN\\HC_Attrition\\[BcomDB] Headcount_attrition.csv', index=False)"
   ]
  }
 ],
 "metadata": {
  "kernelspec": {
   "display_name": "Python 3",
   "language": "python",
   "name": "python3"
  },
  "language_info": {
   "codemirror_mode": {
    "name": "ipython",
    "version": 3
   },
   "file_extension": ".py",
   "mimetype": "text/x-python",
   "name": "python",
   "nbconvert_exporter": "python",
   "pygments_lexer": "ipython3",
   "version": "3.11.4"
  },
  "orig_nbformat": 4
 },
 "nbformat": 4,
 "nbformat_minor": 2
}
