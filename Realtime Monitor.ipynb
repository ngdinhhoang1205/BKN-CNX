{
 "cells": [
  {
   "cell_type": "code",
   "execution_count": 2,
   "metadata": {},
   "outputs": [],
   "source": [
    "#libraries\n",
    "import os\n",
    "import pandas as pd\n",
    "from datetime import datetime as dt\n",
    "from datetime import time as t\n",
    "from datetime import timedelta\n",
    "from dateutil import relativedelta\n",
    "import numpy as np\n",
    "from IPython.display import display"
   ]
  },
  {
   "cell_type": "code",
   "execution_count": 7,
   "metadata": {},
   "outputs": [],
   "source": [
    "timestamp = dt.now()\n",
    "\n",
    "# source\n",
    "personal_path = os.environ['USERPROFILE']\n",
    "if personal_path in ['C:\\\\Users\\\\dinhhoang.nguyen.CONCENTRIX', 'C:\\\\Users\\\\ADMIN']:\n",
    "    middle_path = r'OneDrive - Concentrix Corporation\\WFM-internal'\n",
    "else:\n",
    "    middle_path = r'Concentrix Corporation\\Dinh Hoang Nguyen - WFM-internal'\n",
    "user_credential = os.path.join(os.environ['USERPROFILE'], middle_path)\n",
    "\n",
    "masterroster_path = os.path.join(user_credential, r'Data\\User\\CNX Global Master Roster.xlsx')\n",
    "tl_path = os.path.join(user_credential, r'Data\\TL\\TL List.xlsx')\n",
    "extension_path = os.path.join(user_credential, r'Data\\Extension\\Extension.xlsx')\n",
    "workplan_wst_path = os.path.join(user_credential, r'DB\\filejson\\workplan_wst.json')\n",
    "output_path = os.path.join(user_credential, r'Data\\realtime_capture', f'capture_{timestamp.strftime(\"%Y%m%d-%H%M%S\")}.csv')"
   ]
  },
  {
   "cell_type": "code",
   "execution_count": 11,
   "metadata": {},
   "outputs": [],
   "source": [
    "# import master roster\n",
    "masterroster = pd.read_excel(masterroster_path, sheet_name='Sheet1')\n",
    "# import tl\n",
    "tl = pd.read_excel(tl_path, sheet_name='Sheet1')\n",
    "# Import extention\n",
    "extension = pd.read_excel(extension_path, sheet_name='Sheet1')\n",
    "# import the workplan\n",
    "workplan_wst = pd.read_json(workplan_wst_path)"
   ]
  },
  {
   "cell_type": "code",
   "execution_count": 12,
   "metadata": {},
   "outputs": [],
   "source": [
    "# A table to look up Shift time only will be added later into main data frame\n",
    "shift_time = workplan_wst[['EID', 'Date', 'date_starttime', 'date_endtime', 'date_duration', 'LOB']].drop_duplicates()\n",
    "shift_time['Date'] = pd.to_datetime(shift_time['Date'], format='mixed').dt.date\n",
    "# Remove columns in workplan_wst to make it more concise\n",
    "workplan_wst = workplan_wst.drop(columns={'date_starttime', 'date_endtime', 'date_duration', 'LOB'})"
   ]
  },
  {
   "cell_type": "code",
   "execution_count": 13,
   "metadata": {},
   "outputs": [],
   "source": [
    "# A table to look up total duration need to be delivered in each aux\n",
    "activity_time = workplan_wst.groupby(['EID', 'Date', 'Schedule Act'], as_index=False)['Length'].sum()\n",
    "activity_time['Date'] = activity_time['Date'].dt.date\n",
    "activity_time = activity_time.rename(columns={'Length': 'Total Length'})"
   ]
  },
  {
   "cell_type": "code",
   "execution_count": 14,
   "metadata": {},
   "outputs": [],
   "source": [
    "# from workplan_wst, we extract current workplan of all agent on the floor\n",
    "workplan_now = workplan_wst.loc[(pd.to_datetime(workplan_wst['act_starttime'], format='mixed')<=timestamp) & (pd.to_datetime(workplan_wst['act_endtime'], format='mixed')>=timestamp)]"
   ]
  },
  {
   "cell_type": "code",
   "execution_count": 15,
   "metadata": {},
   "outputs": [],
   "source": [
    "\n",
    "# import the realtime view\n",
    "rt_view = pd.read_excel(os.path.join(r'C:', user_credential, r'Data\\Realtime view\\00_RTA_View-Agent Team Real Time.xlsx'), sheet_name='00_RTA_View-Agent Team Real Tim')\n",
    "rt_view = pd.merge(rt_view, extension[['Extension Number', 'Emp ID']], left_on='Extension', right_on='Extension Number', how='left') # add Employee ID to the table\n",
    "rt_view = rt_view.drop(columns={'Extension Number'}) #to remove abundant col\n",
    "rt_view = pd.merge(rt_view, masterroster[['CUIC Name', 'Employee_ID']], left_on='Agent', right_on='CUIC Name', how='left') #get agent's ID from master roster\n",
    "rt_view['Emp ID'] = rt_view.apply(lambda x: x['Employee_ID'] if pd.isnull(x['Extension']) or pd.isnull(x['Emp ID']) else x['Emp ID'], axis=1) #replace ID from extension (which we ref from Extension) with ID from master roster (which we ref from CUIC name))\n",
    "rt_view = rt_view.drop(columns={'Employee_ID', 'Agent Team', 'Extension', 'CUIC Name', 'Agent'}) #remove this col since this no longer necessary\n",
    "rt_view = rt_view.loc[pd.notnull(rt_view['Emp ID'])]\n",
    "rt_view = rt_view.rename(columns={'DateTime': 'actual_starttime'})"
   ]
  },
  {
   "cell_type": "code",
   "execution_count": 16,
   "metadata": {},
   "outputs": [],
   "source": [
    "main = pd.merge(workplan_now, rt_view, left_on='EID', right_on='Emp ID', how='outer')\n",
    "# main['actual_starttime'] = main.apply(lambda x: '' if pd.isnull(x['Duration']) else timestamp - timedelta(days = x['Duration']), axis=1)\n",
    "main['time_stamp'] = timestamp #add a timestamp column\n",
    "\n",
    "main['Employee_ID'] = main.apply(lambda x: x['EID'] if pd.notnull(x['EID']) else x['Emp ID'], axis=1) #since null values always exist in EID and Emp ID, now we need to create a column we null does not exists\n",
    "main = main.drop(columns={'EID', 'Emp ID'}) #then we remove the 2 original columns\n",
    "\n",
    "main['Date'] = main.apply(lambda x: x['Date'] if pd.notnull(x['Date']) else x['time_stamp'], axis=1)\n",
    "main['Date'] = main['Date'].dt.date\n",
    "# add additional info of agents\n",
    "\n",
    "main = pd.merge(main, tl[['Emp ID', 'Supervisor (no need fill)']], left_on = 'Employee_ID', right_on = 'Emp ID', how='left') # add supervisor\n",
    "main = main.drop(columns={'Emp ID'})\n",
    "main = main.rename(columns={'Supervisor (no need fill)': 'Supervisor'})\n",
    "main = pd.merge(main, masterroster[['Employee_ID', 'Wave #', 'TED Name', 'CUIC Name','Full name']], on = 'Employee_ID', how='left')\n",
    "\n",
    "# now we add back information of the shift\n",
    "main = pd.merge(main, shift_time, left_on=['Employee_ID', 'Date'], right_on=['EID', 'Date'], how='left')\n",
    "main = main.drop(columns={'EID'})\n",
    "\n",
    "main['time_stamp'] = pd.to_datetime(main['time_stamp'], format='mixed')\n",
    "main['time_stamp'] = main['time_stamp'].dt.strftime('%Y-%m-%d %I:%M:%S %p')\n",
    "\n"
   ]
  },
  {
   "cell_type": "code",
   "execution_count": 17,
   "metadata": {},
   "outputs": [],
   "source": [
    "# add total duration of activity\n",
    "main = pd.merge(main, activity_time, left_on = ['Employee_ID', 'Date', 'Schedule Act'], right_on = ['EID', 'Date', 'Schedule Act'], how='left')\n",
    "main = main.drop(columns={'EID'})"
   ]
  },
  {
   "cell_type": "code",
   "execution_count": 18,
   "metadata": {},
   "outputs": [],
   "source": [
    "# Export data\n",
    "timestamp = timestamp.strftime(\"%Y%m%d-%H%M%S\")\n",
    "main.to_csv(output_path, index=False)"
   ]
  }
 ],
 "metadata": {
  "kernelspec": {
   "display_name": "Python 3",
   "language": "python",
   "name": "python3"
  },
  "language_info": {
   "codemirror_mode": {
    "name": "ipython",
    "version": 3
   },
   "file_extension": ".py",
   "mimetype": "text/x-python",
   "name": "python",
   "nbconvert_exporter": "python",
   "pygments_lexer": "ipython3",
   "version": "3.11.4"
  },
  "orig_nbformat": 4
 },
 "nbformat": 4,
 "nbformat_minor": 2
}
