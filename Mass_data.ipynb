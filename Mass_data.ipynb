{
 "cells": [
  {
   "cell_type": "code",
   "execution_count": 1,
   "metadata": {},
   "outputs": [],
   "source": [
    "#libraries\n",
    "import os\n",
    "import pandas as pd\n",
    "from datetime import datetime as dt\n",
    "from datetime import time as t\n",
    "from datetime import timedelta\n",
    "from pandas.tseries.offsets import MonthEnd\n",
    "from IPython.display import display\n",
    "import json\n",
    "import numpy as np\n",
    "import re\n",
    "from openpyxl import load_workbook\n",
    "import xlsxwriter\n",
    "import requests\n",
    "from requests.auth import HTTPBasicAuth"
   ]
  },
  {
   "cell_type": "code",
   "execution_count": 2,
   "metadata": {},
   "outputs": [],
   "source": [
    "# source\n",
    "user_credential = r'/Users/dinhhoang.nguyen.CONCENTRIX/OneDrive - Concentrix Corporation\\WFM-internal'\n",
    "\n",
    "time_reset = dt(year=2023, month=8, day=1)\n",
    "update_less = True\n",
    "\n",
    "# IMPORT MASTER ROSTER\n",
    "masterroster = pd.read_json(os.path.join(r'C:', user_credential, r'DB\\filejson\\masterroster.json'))\n",
    "masterroster['Employee_ID'] = masterroster['Employee_ID'].astype(\"Int64\")\n",
    "# IMPORT EPS\n",
    "eps = pd.read_json(os.path.join(r'C:', user_credential, r'DB\\filejson\\eps_full.json'))\n",
    "if update_less is True:\n",
    "    eps = pd.read_json(os.path.join(r'C:', user_credential, r'DB\\filejson\\eps.json'))\n",
    "else:\n",
    "    eps = pd.read_json(os.path.join(r'C:', user_credential, r'DB\\filejson\\eps_full.json'))\n",
    "#IMPORT CPI\n",
    "if update_less is True:\n",
    "    cpi = pd.read_json(os.path.join(r'C:', user_credential, r'DB\\filejson\\cpi.json'))\n",
    "else:\n",
    "    cpi = pd.read_json(os.path.join(r'C:', user_credential, r'DB\\filejson\\cpi_full.json'))\n",
    "    #IMPORT AHT\n",
    "if update_less is True:\n",
    "    aht = pd.read_json(os.path.join(r'C:', user_credential, r'DB\\filejson\\aht.json'))\n",
    "else:\n",
    "    aht = pd.read_json(os.path.join(r'C:', user_credential, r'DB\\filejson\\aht_full.json'))\n",
    "# IMPORT SCHEDULE\n",
    "schedule = pd.read_json(os.path.join(r'C:', user_credential, r'DB\\filejson\\schedule_full.json'))\n",
    "# IMPORT CUIC\n",
    "cuic = pd.read_json(os.path.join(r'C:', user_credential, r'DB\\filejson\\cuic.json'))\n",
    "# IMPORT TL\n",
    "tl = pd.read_json(os.path.join(r'C:', user_credential, r'DB\\filejson\\tl.json'))\n",
    "## quality\n",
    "quality = pd.read_json(os.path.join(r'C:', user_credential, r'DB\\filejson\\quality.json'))"
   ]
  },
  {
   "cell_type": "code",
   "execution_count": 3,
   "metadata": {},
   "outputs": [],
   "source": [
    "# Load KPI\n",
    "kpi = pd.read_json(os.path.join(r'C:', user_credential, r'DB\\filejson\\kpi.json'))"
   ]
  },
  {
   "cell_type": "code",
   "execution_count": 10,
   "metadata": {},
   "outputs": [],
   "source": [
    "# Get requirement\n",
    "requirement = pd.read_json(os.path.join(r'C:', user_credential, r'DB\\filejson\\requirement.json'))"
   ]
  },
  {
   "cell_type": "code",
   "execution_count": 11,
   "metadata": {},
   "outputs": [],
   "source": [
    "# Get daily tracking\n",
    "daily_tracking = pd.read_json(os.path.join(r'C:', user_credential, r'DB\\filejson\\dailytracking_full.json'))"
   ]
  },
  {
   "cell_type": "code",
   "execution_count": 6,
   "metadata": {},
   "outputs": [],
   "source": [
    "# Get workplan"
   ]
  },
  {
   "cell_type": "code",
   "execution_count": 7,
   "metadata": {},
   "outputs": [],
   "source": [
    "# Get Jeopardy --- Currently a script to run Jeopardy independently is not available"
   ]
  },
  {
   "cell_type": "code",
   "execution_count": 8,
   "metadata": {},
   "outputs": [],
   "source": [
    "# Get termination & Attrition data"
   ]
  },
  {
   "cell_type": "code",
   "execution_count": 9,
   "metadata": {},
   "outputs": [],
   "source": [
    "# Export to csv"
   ]
  }
 ],
 "metadata": {
  "kernelspec": {
   "display_name": "Python 3",
   "language": "python",
   "name": "python3"
  },
  "language_info": {
   "codemirror_mode": {
    "name": "ipython",
    "version": 3
   },
   "file_extension": ".py",
   "mimetype": "text/x-python",
   "name": "python",
   "nbconvert_exporter": "python",
   "pygments_lexer": "ipython3",
   "version": "3.11.4"
  },
  "orig_nbformat": 4
 },
 "nbformat": 4,
 "nbformat_minor": 2
}
